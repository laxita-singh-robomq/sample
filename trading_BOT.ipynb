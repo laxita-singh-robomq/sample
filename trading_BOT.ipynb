{
  "nbformat": 4,
  "nbformat_minor": 0,
  "metadata": {
    "colab": {
      "provenance": [],
      "gpuType": "T4",
      "include_colab_link": true
    },
    "kernelspec": {
      "name": "python3",
      "display_name": "Python 3"
    },
    "language_info": {
      "name": "python"
    },
    "accelerator": "GPU"
  },
  "cells": [
    {
      "cell_type": "markdown",
      "metadata": {
        "id": "view-in-github",
        "colab_type": "text"
      },
      "source": [
        "<a href=\"https://colab.research.google.com/github/laxita-singh-robomq/sample/blob/main/trading_BOT.ipynb\" target=\"_parent\"><img src=\"https://colab.research.google.com/assets/colab-badge.svg\" alt=\"Open In Colab\"/></a>"
      ]
    },
    {
      "cell_type": "code",
      "execution_count": null,
      "metadata": {
        "colab": {
          "base_uri": "https://localhost:8080/",
          "height": 527
        },
        "id": "jb_hC0GZ30dL",
        "outputId": "536a4169-8316-4a75-8742-36fb66907a50"
      },
      "outputs": [
        {
          "output_type": "stream",
          "name": "stderr",
          "text": [
            "/usr/local/lib/python3.10/dist-packages/yfinance/base.py:48: FutureWarning: The default dtype for empty Series will be 'object' instead of 'float64' in a future version. Specify a dtype explicitly to silence this warning.\n",
            "  _empty_series = pd.Series()\n",
            "[*********************100%%**********************]  1 of 1 completed\n"
          ]
        },
        {
          "output_type": "execute_result",
          "data": {
            "text/plain": [
              "                  Open        High         Low       Close   Adj Close  \\\n",
              "Date                                                                     \n",
              "2010-06-29    1.266667    1.666667    1.169333    1.592667    1.592667   \n",
              "2010-06-30    1.719333    2.028000    1.553333    1.588667    1.588667   \n",
              "2010-07-01    1.666667    1.728000    1.351333    1.464000    1.464000   \n",
              "2010-07-02    1.533333    1.540000    1.247333    1.280000    1.280000   \n",
              "2010-07-06    1.333333    1.333333    1.055333    1.074000    1.074000   \n",
              "...                ...         ...         ...         ...         ...   \n",
              "2024-02-21  193.360001  199.440002  191.949997  194.770004  194.770004   \n",
              "2024-02-22  194.000000  198.320007  191.360001  197.410004  197.410004   \n",
              "2024-02-23  195.309998  197.570007  191.500000  191.970001  191.970001   \n",
              "2024-02-26  192.289993  201.779999  192.000000  199.399994  199.399994   \n",
              "2024-02-27  204.039993  205.600006  198.259995  199.729996  199.729996   \n",
              "\n",
              "               Volume  \n",
              "Date                   \n",
              "2010-06-29  281494500  \n",
              "2010-06-30  257806500  \n",
              "2010-07-01  123282000  \n",
              "2010-07-02   77097000  \n",
              "2010-07-06  103003500  \n",
              "...               ...  \n",
              "2024-02-21  103844000  \n",
              "2024-02-22   92739500  \n",
              "2024-02-23   78670300  \n",
              "2024-02-26  111747100  \n",
              "2024-02-27  108521300  \n",
              "\n",
              "[3439 rows x 6 columns]"
            ],
            "text/html": [
              "\n",
              "  <div id=\"df-dbfda6bd-40e4-48c1-a704-5760c5c0ff43\" class=\"colab-df-container\">\n",
              "    <div>\n",
              "<style scoped>\n",
              "    .dataframe tbody tr th:only-of-type {\n",
              "        vertical-align: middle;\n",
              "    }\n",
              "\n",
              "    .dataframe tbody tr th {\n",
              "        vertical-align: top;\n",
              "    }\n",
              "\n",
              "    .dataframe thead th {\n",
              "        text-align: right;\n",
              "    }\n",
              "</style>\n",
              "<table border=\"1\" class=\"dataframe\">\n",
              "  <thead>\n",
              "    <tr style=\"text-align: right;\">\n",
              "      <th></th>\n",
              "      <th>Open</th>\n",
              "      <th>High</th>\n",
              "      <th>Low</th>\n",
              "      <th>Close</th>\n",
              "      <th>Adj Close</th>\n",
              "      <th>Volume</th>\n",
              "    </tr>\n",
              "    <tr>\n",
              "      <th>Date</th>\n",
              "      <th></th>\n",
              "      <th></th>\n",
              "      <th></th>\n",
              "      <th></th>\n",
              "      <th></th>\n",
              "      <th></th>\n",
              "    </tr>\n",
              "  </thead>\n",
              "  <tbody>\n",
              "    <tr>\n",
              "      <th>2010-06-29</th>\n",
              "      <td>1.266667</td>\n",
              "      <td>1.666667</td>\n",
              "      <td>1.169333</td>\n",
              "      <td>1.592667</td>\n",
              "      <td>1.592667</td>\n",
              "      <td>281494500</td>\n",
              "    </tr>\n",
              "    <tr>\n",
              "      <th>2010-06-30</th>\n",
              "      <td>1.719333</td>\n",
              "      <td>2.028000</td>\n",
              "      <td>1.553333</td>\n",
              "      <td>1.588667</td>\n",
              "      <td>1.588667</td>\n",
              "      <td>257806500</td>\n",
              "    </tr>\n",
              "    <tr>\n",
              "      <th>2010-07-01</th>\n",
              "      <td>1.666667</td>\n",
              "      <td>1.728000</td>\n",
              "      <td>1.351333</td>\n",
              "      <td>1.464000</td>\n",
              "      <td>1.464000</td>\n",
              "      <td>123282000</td>\n",
              "    </tr>\n",
              "    <tr>\n",
              "      <th>2010-07-02</th>\n",
              "      <td>1.533333</td>\n",
              "      <td>1.540000</td>\n",
              "      <td>1.247333</td>\n",
              "      <td>1.280000</td>\n",
              "      <td>1.280000</td>\n",
              "      <td>77097000</td>\n",
              "    </tr>\n",
              "    <tr>\n",
              "      <th>2010-07-06</th>\n",
              "      <td>1.333333</td>\n",
              "      <td>1.333333</td>\n",
              "      <td>1.055333</td>\n",
              "      <td>1.074000</td>\n",
              "      <td>1.074000</td>\n",
              "      <td>103003500</td>\n",
              "    </tr>\n",
              "    <tr>\n",
              "      <th>...</th>\n",
              "      <td>...</td>\n",
              "      <td>...</td>\n",
              "      <td>...</td>\n",
              "      <td>...</td>\n",
              "      <td>...</td>\n",
              "      <td>...</td>\n",
              "    </tr>\n",
              "    <tr>\n",
              "      <th>2024-02-21</th>\n",
              "      <td>193.360001</td>\n",
              "      <td>199.440002</td>\n",
              "      <td>191.949997</td>\n",
              "      <td>194.770004</td>\n",
              "      <td>194.770004</td>\n",
              "      <td>103844000</td>\n",
              "    </tr>\n",
              "    <tr>\n",
              "      <th>2024-02-22</th>\n",
              "      <td>194.000000</td>\n",
              "      <td>198.320007</td>\n",
              "      <td>191.360001</td>\n",
              "      <td>197.410004</td>\n",
              "      <td>197.410004</td>\n",
              "      <td>92739500</td>\n",
              "    </tr>\n",
              "    <tr>\n",
              "      <th>2024-02-23</th>\n",
              "      <td>195.309998</td>\n",
              "      <td>197.570007</td>\n",
              "      <td>191.500000</td>\n",
              "      <td>191.970001</td>\n",
              "      <td>191.970001</td>\n",
              "      <td>78670300</td>\n",
              "    </tr>\n",
              "    <tr>\n",
              "      <th>2024-02-26</th>\n",
              "      <td>192.289993</td>\n",
              "      <td>201.779999</td>\n",
              "      <td>192.000000</td>\n",
              "      <td>199.399994</td>\n",
              "      <td>199.399994</td>\n",
              "      <td>111747100</td>\n",
              "    </tr>\n",
              "    <tr>\n",
              "      <th>2024-02-27</th>\n",
              "      <td>204.039993</td>\n",
              "      <td>205.600006</td>\n",
              "      <td>198.259995</td>\n",
              "      <td>199.729996</td>\n",
              "      <td>199.729996</td>\n",
              "      <td>108521300</td>\n",
              "    </tr>\n",
              "  </tbody>\n",
              "</table>\n",
              "<p>3439 rows × 6 columns</p>\n",
              "</div>\n",
              "    <div class=\"colab-df-buttons\">\n",
              "\n",
              "  <div class=\"colab-df-container\">\n",
              "    <button class=\"colab-df-convert\" onclick=\"convertToInteractive('df-dbfda6bd-40e4-48c1-a704-5760c5c0ff43')\"\n",
              "            title=\"Convert this dataframe to an interactive table.\"\n",
              "            style=\"display:none;\">\n",
              "\n",
              "  <svg xmlns=\"http://www.w3.org/2000/svg\" height=\"24px\" viewBox=\"0 -960 960 960\">\n",
              "    <path d=\"M120-120v-720h720v720H120Zm60-500h600v-160H180v160Zm220 220h160v-160H400v160Zm0 220h160v-160H400v160ZM180-400h160v-160H180v160Zm440 0h160v-160H620v160ZM180-180h160v-160H180v160Zm440 0h160v-160H620v160Z\"/>\n",
              "  </svg>\n",
              "    </button>\n",
              "\n",
              "  <style>\n",
              "    .colab-df-container {\n",
              "      display:flex;\n",
              "      gap: 12px;\n",
              "    }\n",
              "\n",
              "    .colab-df-convert {\n",
              "      background-color: #E8F0FE;\n",
              "      border: none;\n",
              "      border-radius: 50%;\n",
              "      cursor: pointer;\n",
              "      display: none;\n",
              "      fill: #1967D2;\n",
              "      height: 32px;\n",
              "      padding: 0 0 0 0;\n",
              "      width: 32px;\n",
              "    }\n",
              "\n",
              "    .colab-df-convert:hover {\n",
              "      background-color: #E2EBFA;\n",
              "      box-shadow: 0px 1px 2px rgba(60, 64, 67, 0.3), 0px 1px 3px 1px rgba(60, 64, 67, 0.15);\n",
              "      fill: #174EA6;\n",
              "    }\n",
              "\n",
              "    .colab-df-buttons div {\n",
              "      margin-bottom: 4px;\n",
              "    }\n",
              "\n",
              "    [theme=dark] .colab-df-convert {\n",
              "      background-color: #3B4455;\n",
              "      fill: #D2E3FC;\n",
              "    }\n",
              "\n",
              "    [theme=dark] .colab-df-convert:hover {\n",
              "      background-color: #434B5C;\n",
              "      box-shadow: 0px 1px 3px 1px rgba(0, 0, 0, 0.15);\n",
              "      filter: drop-shadow(0px 1px 2px rgba(0, 0, 0, 0.3));\n",
              "      fill: #FFFFFF;\n",
              "    }\n",
              "  </style>\n",
              "\n",
              "    <script>\n",
              "      const buttonEl =\n",
              "        document.querySelector('#df-dbfda6bd-40e4-48c1-a704-5760c5c0ff43 button.colab-df-convert');\n",
              "      buttonEl.style.display =\n",
              "        google.colab.kernel.accessAllowed ? 'block' : 'none';\n",
              "\n",
              "      async function convertToInteractive(key) {\n",
              "        const element = document.querySelector('#df-dbfda6bd-40e4-48c1-a704-5760c5c0ff43');\n",
              "        const dataTable =\n",
              "          await google.colab.kernel.invokeFunction('convertToInteractive',\n",
              "                                                    [key], {});\n",
              "        if (!dataTable) return;\n",
              "\n",
              "        const docLinkHtml = 'Like what you see? Visit the ' +\n",
              "          '<a target=\"_blank\" href=https://colab.research.google.com/notebooks/data_table.ipynb>data table notebook</a>'\n",
              "          + ' to learn more about interactive tables.';\n",
              "        element.innerHTML = '';\n",
              "        dataTable['output_type'] = 'display_data';\n",
              "        await google.colab.output.renderOutput(dataTable, element);\n",
              "        const docLink = document.createElement('div');\n",
              "        docLink.innerHTML = docLinkHtml;\n",
              "        element.appendChild(docLink);\n",
              "      }\n",
              "    </script>\n",
              "  </div>\n",
              "\n",
              "\n",
              "<div id=\"df-3c5d6d1f-0816-4a38-a460-543e01b75c5b\">\n",
              "  <button class=\"colab-df-quickchart\" onclick=\"quickchart('df-3c5d6d1f-0816-4a38-a460-543e01b75c5b')\"\n",
              "            title=\"Suggest charts\"\n",
              "            style=\"display:none;\">\n",
              "\n",
              "<svg xmlns=\"http://www.w3.org/2000/svg\" height=\"24px\"viewBox=\"0 0 24 24\"\n",
              "     width=\"24px\">\n",
              "    <g>\n",
              "        <path d=\"M19 3H5c-1.1 0-2 .9-2 2v14c0 1.1.9 2 2 2h14c1.1 0 2-.9 2-2V5c0-1.1-.9-2-2-2zM9 17H7v-7h2v7zm4 0h-2V7h2v10zm4 0h-2v-4h2v4z\"/>\n",
              "    </g>\n",
              "</svg>\n",
              "  </button>\n",
              "\n",
              "<style>\n",
              "  .colab-df-quickchart {\n",
              "      --bg-color: #E8F0FE;\n",
              "      --fill-color: #1967D2;\n",
              "      --hover-bg-color: #E2EBFA;\n",
              "      --hover-fill-color: #174EA6;\n",
              "      --disabled-fill-color: #AAA;\n",
              "      --disabled-bg-color: #DDD;\n",
              "  }\n",
              "\n",
              "  [theme=dark] .colab-df-quickchart {\n",
              "      --bg-color: #3B4455;\n",
              "      --fill-color: #D2E3FC;\n",
              "      --hover-bg-color: #434B5C;\n",
              "      --hover-fill-color: #FFFFFF;\n",
              "      --disabled-bg-color: #3B4455;\n",
              "      --disabled-fill-color: #666;\n",
              "  }\n",
              "\n",
              "  .colab-df-quickchart {\n",
              "    background-color: var(--bg-color);\n",
              "    border: none;\n",
              "    border-radius: 50%;\n",
              "    cursor: pointer;\n",
              "    display: none;\n",
              "    fill: var(--fill-color);\n",
              "    height: 32px;\n",
              "    padding: 0;\n",
              "    width: 32px;\n",
              "  }\n",
              "\n",
              "  .colab-df-quickchart:hover {\n",
              "    background-color: var(--hover-bg-color);\n",
              "    box-shadow: 0 1px 2px rgba(60, 64, 67, 0.3), 0 1px 3px 1px rgba(60, 64, 67, 0.15);\n",
              "    fill: var(--button-hover-fill-color);\n",
              "  }\n",
              "\n",
              "  .colab-df-quickchart-complete:disabled,\n",
              "  .colab-df-quickchart-complete:disabled:hover {\n",
              "    background-color: var(--disabled-bg-color);\n",
              "    fill: var(--disabled-fill-color);\n",
              "    box-shadow: none;\n",
              "  }\n",
              "\n",
              "  .colab-df-spinner {\n",
              "    border: 2px solid var(--fill-color);\n",
              "    border-color: transparent;\n",
              "    border-bottom-color: var(--fill-color);\n",
              "    animation:\n",
              "      spin 1s steps(1) infinite;\n",
              "  }\n",
              "\n",
              "  @keyframes spin {\n",
              "    0% {\n",
              "      border-color: transparent;\n",
              "      border-bottom-color: var(--fill-color);\n",
              "      border-left-color: var(--fill-color);\n",
              "    }\n",
              "    20% {\n",
              "      border-color: transparent;\n",
              "      border-left-color: var(--fill-color);\n",
              "      border-top-color: var(--fill-color);\n",
              "    }\n",
              "    30% {\n",
              "      border-color: transparent;\n",
              "      border-left-color: var(--fill-color);\n",
              "      border-top-color: var(--fill-color);\n",
              "      border-right-color: var(--fill-color);\n",
              "    }\n",
              "    40% {\n",
              "      border-color: transparent;\n",
              "      border-right-color: var(--fill-color);\n",
              "      border-top-color: var(--fill-color);\n",
              "    }\n",
              "    60% {\n",
              "      border-color: transparent;\n",
              "      border-right-color: var(--fill-color);\n",
              "    }\n",
              "    80% {\n",
              "      border-color: transparent;\n",
              "      border-right-color: var(--fill-color);\n",
              "      border-bottom-color: var(--fill-color);\n",
              "    }\n",
              "    90% {\n",
              "      border-color: transparent;\n",
              "      border-bottom-color: var(--fill-color);\n",
              "    }\n",
              "  }\n",
              "</style>\n",
              "\n",
              "  <script>\n",
              "    async function quickchart(key) {\n",
              "      const quickchartButtonEl =\n",
              "        document.querySelector('#' + key + ' button');\n",
              "      quickchartButtonEl.disabled = true;  // To prevent multiple clicks.\n",
              "      quickchartButtonEl.classList.add('colab-df-spinner');\n",
              "      try {\n",
              "        const charts = await google.colab.kernel.invokeFunction(\n",
              "            'suggestCharts', [key], {});\n",
              "      } catch (error) {\n",
              "        console.error('Error during call to suggestCharts:', error);\n",
              "      }\n",
              "      quickchartButtonEl.classList.remove('colab-df-spinner');\n",
              "      quickchartButtonEl.classList.add('colab-df-quickchart-complete');\n",
              "    }\n",
              "    (() => {\n",
              "      let quickchartButtonEl =\n",
              "        document.querySelector('#df-3c5d6d1f-0816-4a38-a460-543e01b75c5b button');\n",
              "      quickchartButtonEl.style.display =\n",
              "        google.colab.kernel.accessAllowed ? 'block' : 'none';\n",
              "    })();\n",
              "  </script>\n",
              "</div>\n",
              "\n",
              "  <div id=\"id_315a7f3a-1845-437a-89b9-d1c3ecfb648b\">\n",
              "    <style>\n",
              "      .colab-df-generate {\n",
              "        background-color: #E8F0FE;\n",
              "        border: none;\n",
              "        border-radius: 50%;\n",
              "        cursor: pointer;\n",
              "        display: none;\n",
              "        fill: #1967D2;\n",
              "        height: 32px;\n",
              "        padding: 0 0 0 0;\n",
              "        width: 32px;\n",
              "      }\n",
              "\n",
              "      .colab-df-generate:hover {\n",
              "        background-color: #E2EBFA;\n",
              "        box-shadow: 0px 1px 2px rgba(60, 64, 67, 0.3), 0px 1px 3px 1px rgba(60, 64, 67, 0.15);\n",
              "        fill: #174EA6;\n",
              "      }\n",
              "\n",
              "      [theme=dark] .colab-df-generate {\n",
              "        background-color: #3B4455;\n",
              "        fill: #D2E3FC;\n",
              "      }\n",
              "\n",
              "      [theme=dark] .colab-df-generate:hover {\n",
              "        background-color: #434B5C;\n",
              "        box-shadow: 0px 1px 3px 1px rgba(0, 0, 0, 0.15);\n",
              "        filter: drop-shadow(0px 1px 2px rgba(0, 0, 0, 0.3));\n",
              "        fill: #FFFFFF;\n",
              "      }\n",
              "    </style>\n",
              "    <button class=\"colab-df-generate\" onclick=\"generateWithVariable('df')\"\n",
              "            title=\"Generate code using this dataframe.\"\n",
              "            style=\"display:none;\">\n",
              "\n",
              "  <svg xmlns=\"http://www.w3.org/2000/svg\" height=\"24px\"viewBox=\"0 0 24 24\"\n",
              "       width=\"24px\">\n",
              "    <path d=\"M7,19H8.4L18.45,9,17,7.55,7,17.6ZM5,21V16.75L18.45,3.32a2,2,0,0,1,2.83,0l1.4,1.43a1.91,1.91,0,0,1,.58,1.4,1.91,1.91,0,0,1-.58,1.4L9.25,21ZM18.45,9,17,7.55Zm-12,3A5.31,5.31,0,0,0,4.9,8.1,5.31,5.31,0,0,0,1,6.5,5.31,5.31,0,0,0,4.9,4.9,5.31,5.31,0,0,0,6.5,1,5.31,5.31,0,0,0,8.1,4.9,5.31,5.31,0,0,0,12,6.5,5.46,5.46,0,0,0,6.5,12Z\"/>\n",
              "  </svg>\n",
              "    </button>\n",
              "    <script>\n",
              "      (() => {\n",
              "      const buttonEl =\n",
              "        document.querySelector('#id_315a7f3a-1845-437a-89b9-d1c3ecfb648b button.colab-df-generate');\n",
              "      buttonEl.style.display =\n",
              "        google.colab.kernel.accessAllowed ? 'block' : 'none';\n",
              "\n",
              "      buttonEl.onclick = () => {\n",
              "        google.colab.notebook.generateWithVariable('df');\n",
              "      }\n",
              "      })();\n",
              "    </script>\n",
              "  </div>\n",
              "\n",
              "    </div>\n",
              "  </div>\n"
            ],
            "application/vnd.google.colaboratory.intrinsic+json": {
              "type": "dataframe",
              "variable_name": "df",
              "summary": "{\n  \"name\": \"df\",\n  \"rows\": 3439,\n  \"fields\": [\n    {\n      \"column\": \"Open\",\n      \"properties\": {\n        \"dtype\": \"number\",\n        \"std\": 102.00464909747986,\n        \"min\": 1.0759999752044678,\n        \"max\": 411.4700012207031,\n        \"num_unique_values\": 3137,\n        \"samples\": [\n          19.483333587646484,\n          2.799999952316284,\n          1.8880000114440918\n        ],\n        \"semantic_type\": \"\",\n        \"description\": \"\"\n      }\n    },\n    {\n      \"column\": \"High\",\n      \"properties\": {\n        \"dtype\": \"number\",\n        \"std\": 104.2614971530343,\n        \"min\": 1.108667016029358,\n        \"max\": 414.4966735839844,\n        \"num_unique_values\": 3129,\n        \"samples\": [\n          297.510009765625,\n          285.8333435058594,\n          1.8459999561309814\n        ],\n        \"semantic_type\": \"\",\n        \"description\": \"\"\n      }\n    },\n    {\n      \"column\": \"Low\",\n      \"properties\": {\n        \"dtype\": \"number\",\n        \"std\": 99.51846207582248,\n        \"min\": 0.9986670017242432,\n        \"max\": 405.6666564941406,\n        \"num_unique_values\": 3147,\n        \"samples\": [\n          180.5800018310547,\n          14.816666603088379,\n          12.500666618347168\n        ],\n        \"semantic_type\": \"\",\n        \"description\": \"\"\n      }\n    },\n    {\n      \"column\": \"Close\",\n      \"properties\": {\n        \"dtype\": \"number\",\n        \"std\": 101.92371216347632,\n        \"min\": 1.053333044052124,\n        \"max\": 409.9700012207031,\n        \"num_unique_values\": 3240,\n        \"samples\": [\n          91.43866729736328,\n          13.049332618713379,\n          230.5399932861328\n        ],\n        \"semantic_type\": \"\",\n        \"description\": \"\"\n      }\n    },\n    {\n      \"column\": \"Adj Close\",\n      \"properties\": {\n        \"dtype\": \"number\",\n        \"std\": 101.92371216347632,\n        \"min\": 1.053333044052124,\n        \"max\": 409.9700012207031,\n        \"num_unique_values\": 3240,\n        \"samples\": [\n          91.43866729736328,\n          13.049332618713379,\n          230.5399932861328\n        ],\n        \"semantic_type\": \"\",\n        \"description\": \"\"\n      }\n    },\n    {\n      \"column\": \"Volume\",\n      \"properties\": {\n        \"dtype\": \"number\",\n        \"std\": 79628867,\n        \"min\": 1777500,\n        \"max\": 914082000,\n        \"num_unique_values\": 3408,\n        \"samples\": [\n          9510000,\n          95498600,\n          426606000\n        ],\n        \"semantic_type\": \"\",\n        \"description\": \"\"\n      }\n    }\n  ]\n}"
            }
          },
          "metadata": {},
          "execution_count": 1
        }
      ],
      "source": [
        "import pandas_datareader as pdr\n",
        "import yfinance as yf\n",
        "yf.pdr_override()\n",
        "df=pdr.data.get_data_yahoo([\"TSLA\"])\n",
        "df"
      ]
    },
    {
      "cell_type": "code",
      "source": [
        "df.info()"
      ],
      "metadata": {
        "colab": {
          "base_uri": "https://localhost:8080/"
        },
        "id": "OgpUYnky49Ds",
        "outputId": "f7e55fb7-a5ac-4dca-d998-908b6e8b11c0"
      },
      "execution_count": null,
      "outputs": [
        {
          "output_type": "stream",
          "name": "stdout",
          "text": [
            "<class 'pandas.core.frame.DataFrame'>\n",
            "DatetimeIndex: 3439 entries, 2010-06-29 to 2024-02-27\n",
            "Data columns (total 6 columns):\n",
            " #   Column     Non-Null Count  Dtype  \n",
            "---  ------     --------------  -----  \n",
            " 0   Open       3439 non-null   float64\n",
            " 1   High       3439 non-null   float64\n",
            " 2   Low        3439 non-null   float64\n",
            " 3   Close      3439 non-null   float64\n",
            " 4   Adj Close  3439 non-null   float64\n",
            " 5   Volume     3439 non-null   int64  \n",
            "dtypes: float64(5), int64(1)\n",
            "memory usage: 188.1 KB\n"
          ]
        }
      ]
    },
    {
      "cell_type": "code",
      "source": [
        "from datetime import datetime"
      ],
      "metadata": {
        "id": "5qIkRdRXCEQ5"
      },
      "execution_count": null,
      "outputs": []
    },
    {
      "cell_type": "code",
      "source": [
        "type(df)"
      ],
      "metadata": {
        "colab": {
          "base_uri": "https://localhost:8080/",
          "height": 203
        },
        "id": "qGZRyqWOCoF6",
        "outputId": "d3fc304e-cda1-4eb7-c2ce-b2e2e47d1add"
      },
      "execution_count": null,
      "outputs": [
        {
          "output_type": "execute_result",
          "data": {
            "text/plain": [
              "pandas.core.frame.DataFrame"
            ],
            "text/html": [
              "<div style=\"max-width:800px; border: 1px solid var(--colab-border-color);\"><style>\n",
              "      pre.function-repr-contents {\n",
              "        overflow-x: auto;\n",
              "        padding: 8px 12px;\n",
              "        max-height: 500px;\n",
              "      }\n",
              "\n",
              "      pre.function-repr-contents.function-repr-contents-collapsed {\n",
              "        cursor: pointer;\n",
              "        max-height: 100px;\n",
              "      }\n",
              "    </style>\n",
              "    <pre style=\"white-space: initial; background:\n",
              "         var(--colab-secondary-surface-color); padding: 8px 12px;\n",
              "         border-bottom: 1px solid var(--colab-border-color);\"><b>pandas.core.frame.DataFrame</b><br/>def __init__(data=None, index: Axes | None=None, columns: Axes | None=None, dtype: Dtype | None=None, copy: bool | None=None) -&gt; None</pre><pre class=\"function-repr-contents function-repr-contents-collapsed\" style=\"\"><a class=\"filepath\" style=\"display:none\" href=\"#\">/usr/local/lib/python3.10/dist-packages/pandas/core/frame.py</a>Two-dimensional, size-mutable, potentially heterogeneous tabular data.\n",
              "\n",
              "Data structure also contains labeled axes (rows and columns).\n",
              "Arithmetic operations align on both row and column labels. Can be\n",
              "thought of as a dict-like container for Series objects. The primary\n",
              "pandas data structure.\n",
              "\n",
              "Parameters\n",
              "----------\n",
              "data : ndarray (structured or homogeneous), Iterable, dict, or DataFrame\n",
              "    Dict can contain Series, arrays, constants, dataclass or list-like objects. If\n",
              "    data is a dict, column order follows insertion-order. If a dict contains Series\n",
              "    which have an index defined, it is aligned by its index.\n",
              "\n",
              "    .. versionchanged:: 0.25.0\n",
              "       If data is a list of dicts, column order follows insertion-order.\n",
              "\n",
              "index : Index or array-like\n",
              "    Index to use for resulting frame. Will default to RangeIndex if\n",
              "    no indexing information part of input data and no index provided.\n",
              "columns : Index or array-like\n",
              "    Column labels to use for resulting frame when data does not have them,\n",
              "    defaulting to RangeIndex(0, 1, 2, ..., n). If data contains column labels,\n",
              "    will perform column selection instead.\n",
              "dtype : dtype, default None\n",
              "    Data type to force. Only a single dtype is allowed. If None, infer.\n",
              "copy : bool or None, default None\n",
              "    Copy data from inputs.\n",
              "    For dict data, the default of None behaves like ``copy=True``.  For DataFrame\n",
              "    or 2d ndarray input, the default of None behaves like ``copy=False``.\n",
              "    If data is a dict containing one or more Series (possibly of different dtypes),\n",
              "    ``copy=False`` will ensure that these inputs are not copied.\n",
              "\n",
              "    .. versionchanged:: 1.3.0\n",
              "\n",
              "See Also\n",
              "--------\n",
              "DataFrame.from_records : Constructor from tuples, also record arrays.\n",
              "DataFrame.from_dict : From dicts of Series, arrays, or dicts.\n",
              "read_csv : Read a comma-separated values (csv) file into DataFrame.\n",
              "read_table : Read general delimited file into DataFrame.\n",
              "read_clipboard : Read text from clipboard into DataFrame.\n",
              "\n",
              "Notes\n",
              "-----\n",
              "Please reference the :ref:`User Guide &lt;basics.dataframe&gt;` for more information.\n",
              "\n",
              "Examples\n",
              "--------\n",
              "Constructing DataFrame from a dictionary.\n",
              "\n",
              "&gt;&gt;&gt; d = {&#x27;col1&#x27;: [1, 2], &#x27;col2&#x27;: [3, 4]}\n",
              "&gt;&gt;&gt; df = pd.DataFrame(data=d)\n",
              "&gt;&gt;&gt; df\n",
              "   col1  col2\n",
              "0     1     3\n",
              "1     2     4\n",
              "\n",
              "Notice that the inferred dtype is int64.\n",
              "\n",
              "&gt;&gt;&gt; df.dtypes\n",
              "col1    int64\n",
              "col2    int64\n",
              "dtype: object\n",
              "\n",
              "To enforce a single dtype:\n",
              "\n",
              "&gt;&gt;&gt; df = pd.DataFrame(data=d, dtype=np.int8)\n",
              "&gt;&gt;&gt; df.dtypes\n",
              "col1    int8\n",
              "col2    int8\n",
              "dtype: object\n",
              "\n",
              "Constructing DataFrame from a dictionary including Series:\n",
              "\n",
              "&gt;&gt;&gt; d = {&#x27;col1&#x27;: [0, 1, 2, 3], &#x27;col2&#x27;: pd.Series([2, 3], index=[2, 3])}\n",
              "&gt;&gt;&gt; pd.DataFrame(data=d, index=[0, 1, 2, 3])\n",
              "   col1  col2\n",
              "0     0   NaN\n",
              "1     1   NaN\n",
              "2     2   2.0\n",
              "3     3   3.0\n",
              "\n",
              "Constructing DataFrame from numpy ndarray:\n",
              "\n",
              "&gt;&gt;&gt; df2 = pd.DataFrame(np.array([[1, 2, 3], [4, 5, 6], [7, 8, 9]]),\n",
              "...                    columns=[&#x27;a&#x27;, &#x27;b&#x27;, &#x27;c&#x27;])\n",
              "&gt;&gt;&gt; df2\n",
              "   a  b  c\n",
              "0  1  2  3\n",
              "1  4  5  6\n",
              "2  7  8  9\n",
              "\n",
              "Constructing DataFrame from a numpy ndarray that has labeled columns:\n",
              "\n",
              "&gt;&gt;&gt; data = np.array([(1, 2, 3), (4, 5, 6), (7, 8, 9)],\n",
              "...                 dtype=[(&quot;a&quot;, &quot;i4&quot;), (&quot;b&quot;, &quot;i4&quot;), (&quot;c&quot;, &quot;i4&quot;)])\n",
              "&gt;&gt;&gt; df3 = pd.DataFrame(data, columns=[&#x27;c&#x27;, &#x27;a&#x27;])\n",
              "...\n",
              "&gt;&gt;&gt; df3\n",
              "   c  a\n",
              "0  3  1\n",
              "1  6  4\n",
              "2  9  7\n",
              "\n",
              "Constructing DataFrame from dataclass:\n",
              "\n",
              "&gt;&gt;&gt; from dataclasses import make_dataclass\n",
              "&gt;&gt;&gt; Point = make_dataclass(&quot;Point&quot;, [(&quot;x&quot;, int), (&quot;y&quot;, int)])\n",
              "&gt;&gt;&gt; pd.DataFrame([Point(0, 0), Point(0, 3), Point(2, 3)])\n",
              "   x  y\n",
              "0  0  0\n",
              "1  0  3\n",
              "2  2  3</pre>\n",
              "      <script>\n",
              "      if (google.colab.kernel.accessAllowed && google.colab.files && google.colab.files.view) {\n",
              "        for (const element of document.querySelectorAll('.filepath')) {\n",
              "          element.style.display = 'block'\n",
              "          element.onclick = (event) => {\n",
              "            event.preventDefault();\n",
              "            event.stopPropagation();\n",
              "            google.colab.files.view(element.textContent, 475);\n",
              "          };\n",
              "        }\n",
              "      }\n",
              "      for (const element of document.querySelectorAll('.function-repr-contents')) {\n",
              "        element.onclick = (event) => {\n",
              "          event.preventDefault();\n",
              "          event.stopPropagation();\n",
              "          element.classList.toggle('function-repr-contents-collapsed');\n",
              "        };\n",
              "      }\n",
              "      </script>\n",
              "      </div>"
            ]
          },
          "metadata": {},
          "execution_count": 4
        }
      ]
    },
    {
      "cell_type": "code",
      "source": [
        "df.plot()"
      ],
      "metadata": {
        "colab": {
          "base_uri": "https://localhost:8080/",
          "height": 454
        },
        "id": "fVINCx3zDIqL",
        "outputId": "dff3b624-eb75-4098-86af-e87e472e0d27"
      },
      "execution_count": null,
      "outputs": [
        {
          "output_type": "execute_result",
          "data": {
            "text/plain": [
              "<Axes: xlabel='Date'>"
            ]
          },
          "metadata": {},
          "execution_count": 5
        },
        {
          "output_type": "display_data",
          "data": {
            "text/plain": [
              "<Figure size 640x480 with 1 Axes>"
            ],
            "image/png": "[encoded data removed]"
          },
          "metadata": {}
        }
      ]
    },
    {
      "cell_type": "code",
      "source": [
        "df['High'].plot(figsize=(12,4))"
      ],
      "metadata": {
        "colab": {
          "base_uri": "https://localhost:8080/",
          "height": 385
        },
        "id": "Sc8k4Fw7DW8g",
        "outputId": "12b68227-1969-4ecf-ca1c-cc2331d3c006"
      },
      "execution_count": null,
      "outputs": [
        {
          "output_type": "execute_result",
          "data": {
            "text/plain": [
              "<Axes: xlabel='Date'>"
            ]
          },
          "metadata": {},
          "execution_count": 6
        },
        {
          "output_type": "display_data",
          "data": {
            "text/plain": [
              "<Figure size 1200x400 with 1 Axes>"
            ],
            "image/png": "[encoded data removed]"
          },
          "metadata": {}
        }
      ]
    },
    {
      "cell_type": "code",
      "source": [
        "df['High'].plot(xlim=['2020-01-01','2021-09-01'],figsize=(12,4))"
      ],
      "metadata": {
        "colab": {
          "base_uri": "https://localhost:8080/",
          "height": 396
        },
        "id": "hz1OLWfaDi2M",
        "outputId": "753065b8-014d-42d9-c9cd-212035606770"
      },
      "execution_count": null,
      "outputs": [
        {
          "output_type": "execute_result",
          "data": {
            "text/plain": [
              "<Axes: xlabel='Date'>"
            ]
          },
          "metadata": {},
          "execution_count": 7
        },
        {
          "output_type": "display_data",
          "data": {
            "text/plain": [
              "<Figure size 1200x400 with 1 Axes>"
            ],
            "image/png": "[encoded data removed]"
          },
          "metadata": {}
        }
      ]
    },
    {
      "cell_type": "code",
      "source": [
        "df.index"
      ],
      "metadata": {
        "colab": {
          "base_uri": "https://localhost:8080/"
        },
        "id": "7mZYcUDaEh7p",
        "outputId": "b9b28d64-e662-4aef-b38d-5ff224393f53"
      },
      "execution_count": null,
      "outputs": [
        {
          "output_type": "execute_result",
          "data": {
            "text/plain": [
              "DatetimeIndex(['2010-06-29', '2010-06-30', '2010-07-01', '2010-07-02',\n",
              "               '2010-07-06', '2010-07-07', '2010-07-08', '2010-07-09',\n",
              "               '2010-07-12', '2010-07-13',\n",
              "               ...\n",
              "               '2024-02-13', '2024-02-14', '2024-02-15', '2024-02-16',\n",
              "               '2024-02-20', '2024-02-21', '2024-02-22', '2024-02-23',\n",
              "               '2024-02-26', '2024-02-27'],\n",
              "              dtype='datetime64[ns]', name='Date', length=3439, freq=None)"
            ]
          },
          "metadata": {},
          "execution_count": 8
        }
      ]
    },
    {
      "cell_type": "code",
      "source": [
        "share_close=df.loc['2020-01-01':'2021-09-01']['Close']\n",
        "share_close"
      ],
      "metadata": {
        "colab": {
          "base_uri": "https://localhost:8080/"
        },
        "id": "vVKJti1DE7-z",
        "outputId": "0982d7cc-3b09-4be6-cb46-e69c63cbab65"
      },
      "execution_count": null,
      "outputs": [
        {
          "output_type": "execute_result",
          "data": {
            "text/plain": [
              "Date\n",
              "2020-01-02     28.684000\n",
              "2020-01-03     29.534000\n",
              "2020-01-06     30.102667\n",
              "2020-01-07     31.270666\n",
              "2020-01-08     32.809334\n",
              "                 ...    \n",
              "2021-08-26    233.720001\n",
              "2021-08-27    237.306671\n",
              "2021-08-30    243.636673\n",
              "2021-08-31    245.240005\n",
              "2021-09-01    244.696671\n",
              "Name: Close, Length: 421, dtype: float64"
            ]
          },
          "metadata": {},
          "execution_count": 9
        }
      ]
    },
    {
      "cell_type": "code",
      "source": [
        "share_close.plot()"
      ],
      "metadata": {
        "colab": {
          "base_uri": "https://localhost:8080/",
          "height": 450
        },
        "id": "vVP5SeFJFaeH",
        "outputId": "10ea147f-b81b-4a61-ec2f-b3478c8f050d"
      },
      "execution_count": null,
      "outputs": [
        {
          "output_type": "execute_result",
          "data": {
            "text/plain": [
              "<Axes: xlabel='Date'>"
            ]
          },
          "metadata": {},
          "execution_count": 10
        },
        {
          "output_type": "display_data",
          "data": {
            "text/plain": [
              "<Figure size 640x480 with 1 Axes>"
            ],
            "image/png": "[encoded data removed]"
          },
          "metadata": {}
        }
      ]
    },
    {
      "cell_type": "code",
      "source": [
        "import numpy as np\n",
        "import pandas as pd\n",
        "import matplotlib.pyplot as plt\n",
        "from sklearn.preprocessing import MinMaxScaler\n",
        "scaler=MinMaxScaler(feature_range=(0,1))\n",
        "share_close=scaler.fit_transform(np.array(share_close).reshape(-1,1))"
      ],
      "metadata": {
        "id": "ONrDgg5JGM9C"
      },
      "execution_count": null,
      "outputs": []
    },
    {
      "cell_type": "code",
      "source": [
        "share_close"
      ],
      "metadata": {
        "colab": {
          "base_uri": "https://localhost:8080/"
        },
        "id": "KWZPYdYfH8Uj",
        "outputId": "25fe5c28-50ef-4d2a-8759-7cc6de3f5a7a"
      },
      "execution_count": null,
      "outputs": [
        {
          "output_type": "execute_result",
          "data": {
            "text/plain": [
              "array([[0.01702913],\n",
              "       [0.02017399],\n",
              "       [0.02227797],\n",
              "       [0.02659938],\n",
              "       [0.0322922 ],\n",
              "       [0.02962831],\n",
              "       [0.02884148],\n",
              "       [0.04036278],\n",
              "       [0.0435841 ],\n",
              "       [0.03879405],\n",
              "       [0.0375583 ],\n",
              "       [0.0368208 ],\n",
              "       [0.04587307],\n",
              "       [0.05138831],\n",
              "       [0.05203948],\n",
              "       [0.05021915],\n",
              "       [0.04854189],\n",
              "       [0.05073219],\n",
              "       [0.05420758],\n",
              "       [0.06896255],\n",
              "       [0.0713699 ],\n",
              "       [0.10329458],\n",
              "       [0.12970157],\n",
              "       [0.09212106],\n",
              "       [0.09563838],\n",
              "       [0.09541886],\n",
              "       [0.10114374],\n",
              "       [0.10190837],\n",
              "       [0.10015959],\n",
              "       [0.10921432],\n",
              "       [0.1082351 ],\n",
              "       [0.1226324 ],\n",
              "       [0.13719003],\n",
              "       [0.13274777],\n",
              "       [0.13313995],\n",
              "       [0.1165622 ],\n",
              "       [0.10820549],\n",
              "       [0.10299859],\n",
              "       [0.07838233],\n",
              "       [0.07566664],\n",
              "       [0.09432125],\n",
              "       [0.09478742],\n",
              "       [0.09577158],\n",
              "       [0.08961504],\n",
              "       [0.08442047],\n",
              "       [0.06086975],\n",
              "       [0.07007742],\n",
              "       [0.06733955],\n",
              "       [0.04916593],\n",
              "       [0.04573002],\n",
              "       [0.0206821 ],\n",
              "       [0.01701433],\n",
              "       [0.        ],\n",
              "       [0.01638289],\n",
              "       [0.01635576],\n",
              "       [0.01802315],\n",
              "       [0.0354642 ],\n",
              "       [0.04391216],\n",
              "       [0.04117675],\n",
              "       [0.0377729 ],\n",
              "       [0.03475629],\n",
              "       [0.04015066],\n",
              "       [0.02968258],\n",
              "       [0.02300067],\n",
              "       [0.02930026],\n",
              "       [0.03823661],\n",
              "       [0.04544143],\n",
              "       [0.04627759],\n",
              "       [0.0522368 ],\n",
              "       [0.07146363],\n",
              "       [0.08600153],\n",
              "       [0.09091986],\n",
              "       [0.09471342],\n",
              "       [0.0968544 ],\n",
              "       [0.09499707],\n",
              "       [0.08028652],\n",
              "       [0.09148223],\n",
              "       [0.08495078],\n",
              "       [0.0897655 ],\n",
              "       [0.10791938],\n",
              "       [0.10061096],\n",
              "       [0.10835349],\n",
              "       [0.10375829],\n",
              "       [0.08388769],\n",
              "       [0.09865498],\n",
              "       [0.10038651],\n",
              "       [0.10393096],\n",
              "       [0.10330445],\n",
              "       [0.11301775],\n",
              "       [0.11101244],\n",
              "       [0.11054873],\n",
              "       [0.10599793],\n",
              "       [0.10904906],\n",
              "       [0.10802298],\n",
              "       [0.11158962],\n",
              "       [0.11020341],\n",
              "       [0.11206567],\n",
              "       [0.1150354 ],\n",
              "       [0.11239126],\n",
              "       [0.11288209],\n",
              "       [0.11321755],\n",
              "       [0.10966078],\n",
              "       [0.11686066],\n",
              "       [0.13242465],\n",
              "       [0.12834496],\n",
              "       [0.12869027],\n",
              "       [0.1241074 ],\n",
              "       [0.12935624],\n",
              "       [0.14520636],\n",
              "       [0.1429248 ],\n",
              "       [0.16373763],\n",
              "       [0.15085973],\n",
              "       [0.14159532],\n",
              "       [0.15531431],\n",
              "       [0.15315115],\n",
              "       [0.15553384],\n",
              "       [0.15853564],\n",
              "       [0.15778089],\n",
              "       [0.15615789],\n",
              "       [0.15799793],\n",
              "       [0.1479023 ],\n",
              "       [0.15410078],\n",
              "       [0.14762852],\n",
              "       [0.15986513],\n",
              "       [0.17724451],\n",
              "       [0.18706634],\n",
              "       [0.20902612],\n",
              "       [0.24921131],\n",
              "       [0.25372018],\n",
              "       [0.24780538],\n",
              "       [0.25481041],\n",
              "       [0.29190007],\n",
              "       [0.2801617 ],\n",
              "       [0.2850307 ],\n",
              "       [0.29223549],\n",
              "       [0.28104472],\n",
              "       [0.28109406],\n",
              "       [0.31615867],\n",
              "       [0.29774827],\n",
              "       [0.30366062],\n",
              "       [0.28411065],\n",
              "       [0.26041443],\n",
              "       [0.29065444],\n",
              "       [0.275088  ],\n",
              "       [0.28066734],\n",
              "       [0.2778012 ],\n",
              "       [0.26380842],\n",
              "       [0.27718703],\n",
              "       [0.27768033],\n",
              "       [0.27719197],\n",
              "       [0.27831672],\n",
              "       [0.26922252],\n",
              "       [0.26080168],\n",
              "       [0.24990441],\n",
              "       [0.29439374],\n",
              "       [0.31073223],\n",
              "       [0.31806038],\n",
              "       [0.36367447],\n",
              "       [0.37636492],\n",
              "       [0.37425356],\n",
              "       [0.40466624],\n",
              "       [0.41654269],\n",
              "       [0.40771735],\n",
              "       [0.40997177],\n",
              "       [0.44199512],\n",
              "       [0.46310395],\n",
              "       [0.45685122],\n",
              "       [0.52547094],\n",
              "       [0.49677251],\n",
              "       [0.46263532],\n",
              "       [0.41284782],\n",
              "       [0.42680854],\n",
              "       [0.31814425],\n",
              "       [0.36262864],\n",
              "       [0.36886904],\n",
              "       [0.37057096],\n",
              "       [0.42841181],\n",
              "       [0.46558284],\n",
              "       [0.45571658],\n",
              "       [0.43311056],\n",
              "       [0.45619758],\n",
              "       [0.46512651],\n",
              "       [0.43409723],\n",
              "       [0.37999323],\n",
              "       [0.38915651],\n",
              "       [0.41326711],\n",
              "       [0.43036035],\n",
              "       [0.4277335 ],\n",
              "       [0.43999226],\n",
              "       [0.46360962],\n",
              "       [0.42282501],\n",
              "       [0.43588544],\n",
              "       [0.42145609],\n",
              "       [0.43541681],\n",
              "       [0.43618143],\n",
              "       [0.44614637],\n",
              "       [0.45638258],\n",
              "       [0.46174734],\n",
              "       [0.47981488],\n",
              "       [0.46449755],\n",
              "       [0.45313907],\n",
              "       [0.44223686],\n",
              "       [0.43127301],\n",
              "       [0.43213632],\n",
              "       [0.4360211 ],\n",
              "       [0.42965743],\n",
              "       [0.42922578],\n",
              "       [0.43465218],\n",
              "       [0.41163917],\n",
              "       [0.41757125],\n",
              "       [0.38946481],\n",
              "       [0.40484379],\n",
              "       [0.43369024],\n",
              "       [0.43008903],\n",
              "       [0.45119047],\n",
              "       [0.44115157],\n",
              "       [0.43043437],\n",
              "       [0.41699162],\n",
              "       [0.42534093],\n",
              "       [0.41871819],\n",
              "       [0.41469774],\n",
              "       [0.41419207],\n",
              "       [0.45553163],\n",
              "       [0.5110662 ],\n",
              "       [0.52664255],\n",
              "       [0.51472906],\n",
              "       [0.55448997],\n",
              "       [0.59584184],\n",
              "       [0.6188055 ],\n",
              "       [0.63330887],\n",
              "       [0.61091252],\n",
              "       [0.63207561],\n",
              "       [0.61241716],\n",
              "       [0.64270649],\n",
              "       [0.64968682],\n",
              "       [0.70237255],\n",
              "       [0.71238678],\n",
              "       [0.65639589],\n",
              "       [0.68425567],\n",
              "       [0.66319127],\n",
              "       [0.69999235],\n",
              "       [0.69187733],\n",
              "       [0.67895256],\n",
              "       [0.71981113],\n",
              "       [0.76803239],\n",
              "       [0.71236211],\n",
              "       [0.70062132],\n",
              "       [0.70757698],\n",
              "       [0.72705048],\n",
              "       [0.72941837],\n",
              "       [0.73225495],\n",
              "       [0.76776107],\n",
              "       [0.78119145],\n",
              "       [0.81091352],\n",
              "       [0.81749923],\n",
              "       [0.84323777],\n",
              "       [0.91730857],\n",
              "       [0.99621378],\n",
              "       [0.91132715],\n",
              "       [0.95850011],\n",
              "       [0.96462955],\n",
              "       [0.9530243 ],\n",
              "       [0.92978932],\n",
              "       [0.95246935],\n",
              "       [0.95974573],\n",
              "       [0.953012  ],\n",
              "       [0.95504686],\n",
              "       [0.99717578],\n",
              "       [1.        ],\n",
              "       [0.97665402],\n",
              "       [0.94122181],\n",
              "       [0.88954747],\n",
              "       [0.94662365],\n",
              "       [0.98729716],\n",
              "       [0.96497482],\n",
              "       [0.95917836],\n",
              "       [0.96194093],\n",
              "       [0.97574137],\n",
              "       [0.95852472],\n",
              "       [0.90347121],\n",
              "       [0.91190684],\n",
              "       [0.91740725],\n",
              "       [0.89286499],\n",
              "       [0.89524514],\n",
              "       [0.88196273],\n",
              "       [0.87446437],\n",
              "       [0.79208135],\n",
              "       [0.77276818],\n",
              "       [0.82602118],\n",
              "       [0.75227104],\n",
              "       [0.74398344],\n",
              "       [0.79692813],\n",
              "       [0.75747552],\n",
              "       [0.7164813 ],\n",
              "       [0.67731232],\n",
              "       [0.64834257],\n",
              "       [0.60523946],\n",
              "       [0.74161554],\n",
              "       [0.7348078 ],\n",
              "       [0.77370545],\n",
              "       [0.7664661 ],\n",
              "       [0.783991  ],\n",
              "       [0.74568533],\n",
              "       [0.77643099],\n",
              "       [0.71643195],\n",
              "       [0.71854083],\n",
              "       [0.73720036],\n",
              "       [0.72753147],\n",
              "       [0.68820216],\n",
              "       [0.70068297],\n",
              "       [0.67394545],\n",
              "       [0.66479454],\n",
              "       [0.69480024],\n",
              "       [0.73464746],\n",
              "       [0.7270258 ],\n",
              "       [0.76316094],\n",
              "       [0.76386386],\n",
              "       [0.73839665],\n",
              "       [0.75421965],\n",
              "       [0.74585803],\n",
              "       [0.77664066],\n",
              "       [0.8510568 ],\n",
              "       [0.81394736],\n",
              "       [0.82211172],\n",
              "       [0.82325866],\n",
              "       [0.79224168],\n",
              "       [0.79761875],\n",
              "       [0.82861105],\n",
              "       [0.79848206],\n",
              "       [0.81045719],\n",
              "       [0.82131006],\n",
              "       [0.78004451],\n",
              "       [0.76729238],\n",
              "       [0.74583336],\n",
              "       [0.78584092],\n",
              "       [0.75557626],\n",
              "       [0.74164021],\n",
              "       [0.73835967],\n",
              "       [0.72923337],\n",
              "       [0.74012327],\n",
              "       [0.68668521],\n",
              "       [0.67208322],\n",
              "       [0.63840236],\n",
              "       [0.61595667],\n",
              "       [0.63821735],\n",
              "       [0.62229573],\n",
              "       [0.62357833],\n",
              "       [0.60580678],\n",
              "       [0.63456686],\n",
              "       [0.62729048],\n",
              "       [0.65881312],\n",
              "       [0.6566549 ],\n",
              "       [0.67446343],\n",
              "       [0.6889175 ],\n",
              "       [0.6819741 ],\n",
              "       [0.68034616],\n",
              "       [0.65718518],\n",
              "       [0.61737493],\n",
              "       [0.64969919],\n",
              "       [0.65719755],\n",
              "       [0.65529829],\n",
              "       [0.64936621],\n",
              "       [0.6633516 ],\n",
              "       [0.66306791],\n",
              "       [0.67268752],\n",
              "       [0.6500815 ],\n",
              "       [0.65687688],\n",
              "       [0.67134327],\n",
              "       [0.67961856],\n",
              "       [0.67656   ],\n",
              "       [0.68011187],\n",
              "       [0.72063746],\n",
              "       [0.74931122],\n",
              "       [0.73950661],\n",
              "       [0.76028738],\n",
              "       [0.75047046],\n",
              "       [0.74916319],\n",
              "       [0.74696794],\n",
              "       [0.74817658],\n",
              "       [0.72434961],\n",
              "       [0.70593673],\n",
              "       [0.7160003 ],\n",
              "       [0.7211061 ],\n",
              "       [0.75656287],\n",
              "       [0.73539978],\n",
              "       [0.71670328],\n",
              "       [0.71327476],\n",
              "       [0.70540645],\n",
              "       [0.70787297],\n",
              "       [0.72548424],\n",
              "       [0.71905881],\n",
              "       [0.71162215],\n",
              "       [0.7043705 ],\n",
              "       [0.72193237],\n",
              "       [0.70609706],\n",
              "       [0.70881029],\n",
              "       [0.74626501],\n",
              "       [0.75841279],\n",
              "       [0.78612461],\n",
              "       [0.78621093],\n",
              "       [0.78766617],\n",
              "       [0.79224168],\n",
              "       [0.77308885],\n",
              "       [0.7911687 ],\n",
              "       [0.78651923],\n",
              "       [0.78384303],\n",
              "       [0.80163925],\n",
              "       [0.7953742 ],\n",
              "       [0.75714249],\n",
              "       [0.73190962],\n",
              "       [0.76062035],\n",
              "       [0.74147988],\n",
              "       [0.74985381],\n",
              "       [0.78196844],\n",
              "       [0.78466931],\n",
              "       [0.7880115 ],\n",
              "       [0.77562938],\n",
              "       [0.78889949],\n",
              "       [0.81231948],\n",
              "       [0.81825155],\n",
              "       [0.8162413 ]])"
            ]
          },
          "metadata": {},
          "execution_count": 12
        }
      ]
    },
    {
      "cell_type": "code",
      "source": [
        "\n",
        "training_size=int(len(share_close)*0.65)\n",
        "test_size=len(share_close)-training_size\n",
        "train_data,test_data=share_close[0:training_size,:],share_close[training_size:len(share_close),:1]"
      ],
      "metadata": {
        "id": "TEk1gLIDIJ0t"
      },
      "execution_count": null,
      "outputs": []
    },
    {
      "cell_type": "code",
      "source": [
        "def create_dataset(dataset,time_step=1):\n",
        "  dataX,dataY= [],[]\n",
        "  for i in range(len(dataset)-time_step-1):\n",
        "    a=dataset[i:(i+time_step),0]\n",
        "    dataX.append(a)\n",
        "    dataY.append(dataset[i+time_step,0])\n",
        "  return np.array(dataX),np.array(dataY)"
      ],
      "metadata": {
        "id": "Cv7q7UJAPdlP"
      },
      "execution_count": null,
      "outputs": []
    },
    {
      "cell_type": "code",
      "source": [
        "print(\"In above line of code we have done , for Ex I have rates for few days like : 120,130,125,140,134,150  this is for training data\\n now for testing we have 160,190,154,\\nso our o/p should in form like we have 3 timestamp 120,130,125, so our o/p should be 140 next time i/p will be 130,125,140 so for this type of format the above code is written\")"
      ],
      "metadata": {
        "colab": {
          "base_uri": "https://localhost:8080/"
        },
        "id": "uZ3aI-NDWNCR",
        "outputId": "2fb3bfd9-7f53-4edd-fbc4-0d04e57609d2"
      },
      "execution_count": null,
      "outputs": [
        {
          "output_type": "stream",
          "name": "stdout",
          "text": [
            "In above line of code we have done , for Ex I have rates for few days like : 120,130,125,140,134,150  this is for training data\n",
            " now for testing we have 160,190,154,\n",
            "so our o/p should in form like we have 3 timestamp 120,130,125, so our o/p should be 140 next time i/p will be 130,125,140 so for this type of format the above code is written\n"
          ]
        }
      ]
    },
    {
      "cell_type": "code",
      "source": [
        "print(\"we will do for 100 time stamps, means 99 i/p will be there as independent feature and 100th value will be o/p \")"
      ],
      "metadata": {
        "colab": {
          "base_uri": "https://localhost:8080/"
        },
        "id": "S-D8g7x6YB7y",
        "outputId": "5fe48841-3580-4e86-a249-8b287a20782d"
      },
      "execution_count": null,
      "outputs": [
        {
          "output_type": "stream",
          "name": "stdout",
          "text": [
            "we will do for 100 time stamps, means 99 i/p will be there as independent feature and 100th value will be o/p \n"
          ]
        }
      ]
    },
    {
      "cell_type": "code",
      "source": [
        "time_step=100\n",
        "X_train,y_train=create_dataset(train_data,time_step)\n",
        "X_test,y_test=create_dataset(test_data,time_step)"
      ],
      "metadata": {
        "id": "lJOaQsd7RLSg"
      },
      "execution_count": null,
      "outputs": []
    },
    {
      "cell_type": "code",
      "source": [
        "X_train"
      ],
      "metadata": {
        "colab": {
          "base_uri": "https://localhost:8080/"
        },
        "id": "W5iP-xYARfql",
        "outputId": "364f31cb-23f6-48cd-e476-4888d5eb9b30"
      },
      "execution_count": null,
      "outputs": [
        {
          "output_type": "execute_result",
          "data": {
            "text/plain": [
              "array([[0.01702913, 0.02017399, 0.02227797, ..., 0.1150354 , 0.11239126,\n",
              "        0.11288209],\n",
              "       [0.02017399, 0.02227797, 0.02659938, ..., 0.11239126, 0.11288209,\n",
              "        0.11321755],\n",
              "       [0.02227797, 0.02659938, 0.0322922 , ..., 0.11288209, 0.11321755,\n",
              "        0.10966078],\n",
              "       ...,\n",
              "       [0.46263532, 0.41284782, 0.42680854, ..., 0.95504686, 0.99717578,\n",
              "        1.        ],\n",
              "       [0.41284782, 0.42680854, 0.31814425, ..., 0.99717578, 1.        ,\n",
              "        0.97665402],\n",
              "       [0.42680854, 0.31814425, 0.36262864, ..., 1.        , 0.97665402,\n",
              "        0.94122181]])"
            ]
          },
          "metadata": {},
          "execution_count": 18
        }
      ]
    },
    {
      "cell_type": "code",
      "source": [
        "print(X_train.shape),print(y_train.shape)"
      ],
      "metadata": {
        "colab": {
          "base_uri": "https://localhost:8080/"
        },
        "id": "-0hkVLg0S2Yb",
        "outputId": "36f626f6-7bcf-4b64-a371-f322f1fcf3ce"
      },
      "execution_count": null,
      "outputs": [
        {
          "output_type": "stream",
          "name": "stdout",
          "text": [
            "(172, 100)\n",
            "(172,)\n"
          ]
        },
        {
          "output_type": "execute_result",
          "data": {
            "text/plain": [
              "(None, None)"
            ]
          },
          "metadata": {},
          "execution_count": 19
        }
      ]
    },
    {
      "cell_type": "code",
      "source": [
        "print(X_test.shape,y_test.shape)"
      ],
      "metadata": {
        "colab": {
          "base_uri": "https://localhost:8080/"
        },
        "id": "-tQkGgxKTDCk",
        "outputId": "ab7b564f-8320-408c-d2ea-ccdfed8ebeff"
      },
      "execution_count": null,
      "outputs": [
        {
          "output_type": "stream",
          "name": "stdout",
          "text": [
            "(47, 100) (47,)\n"
          ]
        }
      ]
    },
    {
      "cell_type": "code",
      "source": [
        "X_train=X_train.reshape(X_train.shape[0],X_train.shape[1],1)\n",
        "X_test=X_test.reshape(X_test.shape[0],X_test.shape[1],1)"
      ],
      "metadata": {
        "id": "1NW73OmGTHeL"
      },
      "execution_count": null,
      "outputs": []
    },
    {
      "cell_type": "markdown",
      "source": [
        "#Stacked lstm mode"
      ],
      "metadata": {
        "id": "P1cms8mkYbm7"
      }
    },
    {
      "cell_type": "code",
      "source": [
        "import tensorflow as tf\n",
        "from tensorflow import keras\n",
        "from tensorflow.keras.models import Sequential"
      ],
      "metadata": {
        "id": "yooPVGHBiJwG"
      },
      "execution_count": null,
      "outputs": []
    },
    {
      "cell_type": "code",
      "source": [
        "from tensorflow.keras.layers import Dense"
      ],
      "metadata": {
        "id": "iyx4Gqw-il2I"
      },
      "execution_count": null,
      "outputs": []
    },
    {
      "cell_type": "code",
      "source": [
        "from tensorflow.keras.layers import LSTM\n",
        "from tensorflow.keras.layers import Bidirectional\n"
      ],
      "metadata": {
        "id": "R2FtsaMNiuyg"
      },
      "execution_count": null,
      "outputs": []
    },
    {
      "cell_type": "code",
      "source": [
        "model=Sequential()\n",
        "model.add(LSTM(50,return_sequences=True,input_shape=(100,1)))\n",
        "model.add(LSTM(50,return_sequences=True))\n",
        "model.add(LSTM(50))\n",
        "model.add(Dense(1))\n",
        "model.compile(loss='mean_squared_error',optimizer='adam')"
      ],
      "metadata": {
        "id": "ZxtsMAEsi1yA"
      },
      "execution_count": null,
      "outputs": []
    },
    {
      "cell_type": "code",
      "source": [
        "\n",
        "model.summary()\n"
      ],
      "metadata": {
        "colab": {
          "base_uri": "https://localhost:8080/"
        },
        "id": "N5NRGQ7SjaVZ",
        "outputId": "c1baca82-62d1-463e-9011-ad347901fe85"
      },
      "execution_count": null,
      "outputs": [
        {
          "output_type": "stream",
          "name": "stdout",
          "text": [
            "Model: \"sequential\"\n",
            "_________________________________________________________________\n",
            " Layer (type)                Output Shape              Param #   \n",
            "=================================================================\n",
            " lstm (LSTM)                 (None, 100, 50)           10400     \n",
            "                                                                 \n",
            " lstm_1 (LSTM)               (None, 100, 50)           20200     \n",
            "                                                                 \n",
            " lstm_2 (LSTM)               (None, 50)                20200     \n",
            "                                                                 \n",
            " dense (Dense)               (None, 1)                 51        \n",
            "                                                                 \n",
            "=================================================================\n",
            "Total params: 50851 (198.64 KB)\n",
            "Trainable params: 50851 (198.64 KB)\n",
            "Non-trainable params: 0 (0.00 Byte)\n",
            "_________________________________________________________________\n"
          ]
        }
      ]
    },
    {
      "cell_type": "code",
      "source": [
        "model.fit(X_train,y_train,validation_data=(X_test,y_test),epochs=100,batch_size=64,verbose=1)"
      ],
      "metadata": {
        "colab": {
          "base_uri": "https://localhost:8080/"
        },
        "id": "Imqi70tsjdbV",
        "outputId": "7a2cd529-4ff2-4dd6-9376-fcaeb83d6802"
      },
      "execution_count": null,
      "outputs": [
        {
          "output_type": "stream",
          "name": "stdout",
          "text": [
            "Epoch 1/100\n",
            "3/3 [==============================] - 8s 508ms/step - loss: 0.1619 - val_loss: 0.0735\n",
            "Epoch 2/100\n",
            "3/3 [==============================] - 0s 37ms/step - loss: 0.0251 - val_loss: 0.1044\n",
            "Epoch 3/100\n",
            "3/3 [==============================] - 0s 38ms/step - loss: 0.0385 - val_loss: 0.0037\n",
            "Epoch 4/100\n",
            "3/3 [==============================] - 0s 38ms/step - loss: 0.0109 - val_loss: 0.0253\n",
            "Epoch 5/100\n",
            "3/3 [==============================] - 0s 33ms/step - loss: 0.0205 - val_loss: 0.0273\n",
            "Epoch 6/100\n",
            "3/3 [==============================] - 0s 31ms/step - loss: 0.0164 - val_loss: 0.0042\n",
            "Epoch 7/100\n",
            "3/3 [==============================] - 0s 27ms/step - loss: 0.0075 - val_loss: 0.0077\n",
            "Epoch 8/100\n",
            "3/3 [==============================] - 0s 27ms/step - loss: 0.0105 - val_loss: 0.0148\n",
            "Epoch 9/100\n",
            "3/3 [==============================] - 0s 27ms/step - loss: 0.0090 - val_loss: 0.0022\n",
            "Epoch 10/100\n",
            "3/3 [==============================] - 0s 26ms/step - loss: 0.0059 - val_loss: 0.0019\n",
            "Epoch 11/100\n",
            "3/3 [==============================] - 0s 27ms/step - loss: 0.0069 - val_loss: 0.0015\n",
            "Epoch 12/100\n",
            "3/3 [==============================] - 0s 27ms/step - loss: 0.0055 - val_loss: 0.0033\n",
            "Epoch 13/100\n",
            "3/3 [==============================] - 0s 26ms/step - loss: 0.0044 - val_loss: 0.0131\n",
            "Epoch 14/100\n",
            "3/3 [==============================] - 0s 32ms/step - loss: 0.0049 - val_loss: 0.0102\n",
            "Epoch 15/100\n",
            "3/3 [==============================] - 0s 25ms/step - loss: 0.0038 - val_loss: 0.0032\n",
            "Epoch 16/100\n",
            "3/3 [==============================] - 0s 25ms/step - loss: 0.0042 - val_loss: 0.0024\n",
            "Epoch 17/100\n",
            "3/3 [==============================] - 0s 28ms/step - loss: 0.0039 - val_loss: 0.0084\n",
            "Epoch 18/100\n",
            "3/3 [==============================] - 0s 25ms/step - loss: 0.0038 - val_loss: 0.0159\n",
            "Epoch 19/100\n",
            "3/3 [==============================] - 0s 27ms/step - loss: 0.0039 - val_loss: 0.0102\n",
            "Epoch 20/100\n",
            "3/3 [==============================] - 0s 27ms/step - loss: 0.0036 - val_loss: 0.0047\n",
            "Epoch 21/100\n",
            "3/3 [==============================] - 0s 25ms/step - loss: 0.0038 - val_loss: 0.0065\n",
            "Epoch 22/100\n",
            "3/3 [==============================] - 0s 25ms/step - loss: 0.0036 - val_loss: 0.0110\n",
            "Epoch 23/100\n",
            "3/3 [==============================] - 0s 25ms/step - loss: 0.0035 - val_loss: 0.0094\n",
            "Epoch 24/100\n",
            "3/3 [==============================] - 0s 26ms/step - loss: 0.0035 - val_loss: 0.0070\n",
            "Epoch 25/100\n",
            "3/3 [==============================] - 0s 25ms/step - loss: 0.0035 - val_loss: 0.0062\n",
            "Epoch 26/100\n",
            "3/3 [==============================] - 0s 25ms/step - loss: 0.0034 - val_loss: 0.0083\n",
            "Epoch 27/100\n",
            "3/3 [==============================] - 0s 25ms/step - loss: 0.0035 - val_loss: 0.0085\n",
            "Epoch 28/100\n",
            "3/3 [==============================] - 0s 25ms/step - loss: 0.0034 - val_loss: 0.0055\n",
            "Epoch 29/100\n",
            "3/3 [==============================] - 0s 26ms/step - loss: 0.0035 - val_loss: 0.0055\n",
            "Epoch 30/100\n",
            "3/3 [==============================] - 0s 26ms/step - loss: 0.0035 - val_loss: 0.0086\n",
            "Epoch 31/100\n",
            "3/3 [==============================] - 0s 25ms/step - loss: 0.0034 - val_loss: 0.0073\n",
            "Epoch 32/100\n",
            "3/3 [==============================] - 0s 26ms/step - loss: 0.0034 - val_loss: 0.0053\n",
            "Epoch 33/100\n",
            "3/3 [==============================] - 0s 25ms/step - loss: 0.0034 - val_loss: 0.0060\n",
            "Epoch 34/100\n",
            "3/3 [==============================] - 0s 26ms/step - loss: 0.0034 - val_loss: 0.0090\n",
            "Epoch 35/100\n",
            "3/3 [==============================] - 0s 26ms/step - loss: 0.0034 - val_loss: 0.0068\n",
            "Epoch 36/100\n",
            "3/3 [==============================] - 0s 27ms/step - loss: 0.0033 - val_loss: 0.0055\n",
            "Epoch 37/100\n",
            "3/3 [==============================] - 0s 27ms/step - loss: 0.0033 - val_loss: 0.0064\n",
            "Epoch 38/100\n",
            "3/3 [==============================] - 0s 26ms/step - loss: 0.0033 - val_loss: 0.0064\n",
            "Epoch 39/100\n",
            "3/3 [==============================] - 0s 26ms/step - loss: 0.0033 - val_loss: 0.0072\n",
            "Epoch 40/100\n",
            "3/3 [==============================] - 0s 25ms/step - loss: 0.0033 - val_loss: 0.0064\n",
            "Epoch 41/100\n",
            "3/3 [==============================] - 0s 26ms/step - loss: 0.0033 - val_loss: 0.0066\n",
            "Epoch 42/100\n",
            "3/3 [==============================] - 0s 28ms/step - loss: 0.0033 - val_loss: 0.0062\n",
            "Epoch 43/100\n",
            "3/3 [==============================] - 0s 29ms/step - loss: 0.0033 - val_loss: 0.0074\n",
            "Epoch 44/100\n",
            "3/3 [==============================] - 0s 26ms/step - loss: 0.0032 - val_loss: 0.0062\n",
            "Epoch 45/100\n",
            "3/3 [==============================] - 0s 27ms/step - loss: 0.0032 - val_loss: 0.0061\n",
            "Epoch 46/100\n",
            "3/3 [==============================] - 0s 26ms/step - loss: 0.0032 - val_loss: 0.0063\n",
            "Epoch 47/100\n",
            "3/3 [==============================] - 0s 27ms/step - loss: 0.0032 - val_loss: 0.0058\n",
            "Epoch 48/100\n",
            "3/3 [==============================] - 0s 27ms/step - loss: 0.0032 - val_loss: 0.0066\n",
            "Epoch 49/100\n",
            "3/3 [==============================] - 0s 27ms/step - loss: 0.0032 - val_loss: 0.0061\n",
            "Epoch 50/100\n",
            "3/3 [==============================] - 0s 28ms/step - loss: 0.0032 - val_loss: 0.0067\n",
            "Epoch 51/100\n",
            "3/3 [==============================] - 0s 26ms/step - loss: 0.0032 - val_loss: 0.0064\n",
            "Epoch 52/100\n",
            "3/3 [==============================] - 0s 26ms/step - loss: 0.0032 - val_loss: 0.0057\n",
            "Epoch 53/100\n",
            "3/3 [==============================] - 0s 26ms/step - loss: 0.0032 - val_loss: 0.0056\n",
            "Epoch 54/100\n",
            "3/3 [==============================] - 0s 26ms/step - loss: 0.0032 - val_loss: 0.0062\n",
            "Epoch 55/100\n",
            "3/3 [==============================] - 0s 27ms/step - loss: 0.0032 - val_loss: 0.0050\n",
            "Epoch 56/100\n",
            "3/3 [==============================] - 0s 26ms/step - loss: 0.0032 - val_loss: 0.0061\n",
            "Epoch 57/100\n",
            "3/3 [==============================] - 0s 29ms/step - loss: 0.0032 - val_loss: 0.0071\n",
            "Epoch 58/100\n",
            "3/3 [==============================] - 0s 25ms/step - loss: 0.0031 - val_loss: 0.0044\n",
            "Epoch 59/100\n",
            "3/3 [==============================] - 0s 27ms/step - loss: 0.0031 - val_loss: 0.0051\n",
            "Epoch 60/100\n",
            "3/3 [==============================] - 0s 25ms/step - loss: 0.0031 - val_loss: 0.0072\n",
            "Epoch 61/100\n",
            "3/3 [==============================] - 0s 26ms/step - loss: 0.0032 - val_loss: 0.0050\n",
            "Epoch 62/100\n",
            "3/3 [==============================] - 0s 25ms/step - loss: 0.0031 - val_loss: 0.0068\n",
            "Epoch 63/100\n",
            "3/3 [==============================] - 0s 25ms/step - loss: 0.0031 - val_loss: 0.0046\n",
            "Epoch 64/100\n",
            "3/3 [==============================] - 0s 26ms/step - loss: 0.0031 - val_loss: 0.0053\n",
            "Epoch 65/100\n",
            "3/3 [==============================] - 0s 25ms/step - loss: 0.0032 - val_loss: 0.0077\n",
            "Epoch 66/100\n",
            "3/3 [==============================] - 0s 26ms/step - loss: 0.0031 - val_loss: 0.0033\n",
            "Epoch 67/100\n",
            "3/3 [==============================] - 0s 25ms/step - loss: 0.0031 - val_loss: 0.0048\n",
            "Epoch 68/100\n",
            "3/3 [==============================] - 0s 25ms/step - loss: 0.0030 - val_loss: 0.0061\n",
            "Epoch 69/100\n",
            "3/3 [==============================] - 0s 27ms/step - loss: 0.0030 - val_loss: 0.0047\n",
            "Epoch 70/100\n",
            "3/3 [==============================] - 0s 25ms/step - loss: 0.0030 - val_loss: 0.0054\n",
            "Epoch 71/100\n",
            "3/3 [==============================] - 0s 26ms/step - loss: 0.0030 - val_loss: 0.0048\n",
            "Epoch 72/100\n",
            "3/3 [==============================] - 0s 27ms/step - loss: 0.0030 - val_loss: 0.0054\n",
            "Epoch 73/100\n",
            "3/3 [==============================] - 0s 27ms/step - loss: 0.0029 - val_loss: 0.0048\n",
            "Epoch 74/100\n",
            "3/3 [==============================] - 0s 27ms/step - loss: 0.0029 - val_loss: 0.0044\n",
            "Epoch 75/100\n",
            "3/3 [==============================] - 0s 27ms/step - loss: 0.0029 - val_loss: 0.0044\n",
            "Epoch 76/100\n",
            "3/3 [==============================] - 0s 26ms/step - loss: 0.0029 - val_loss: 0.0048\n",
            "Epoch 77/100\n",
            "3/3 [==============================] - 0s 25ms/step - loss: 0.0029 - val_loss: 0.0050\n",
            "Epoch 78/100\n",
            "3/3 [==============================] - 0s 25ms/step - loss: 0.0030 - val_loss: 0.0045\n",
            "Epoch 79/100\n",
            "3/3 [==============================] - 0s 25ms/step - loss: 0.0030 - val_loss: 0.0061\n",
            "Epoch 80/100\n",
            "3/3 [==============================] - 0s 26ms/step - loss: 0.0032 - val_loss: 0.0027\n",
            "Epoch 81/100\n",
            "3/3 [==============================] - 0s 26ms/step - loss: 0.0030 - val_loss: 0.0065\n",
            "Epoch 82/100\n",
            "3/3 [==============================] - 0s 28ms/step - loss: 0.0029 - val_loss: 0.0029\n",
            "Epoch 83/100\n",
            "3/3 [==============================] - 0s 26ms/step - loss: 0.0029 - val_loss: 0.0029\n",
            "Epoch 84/100\n",
            "3/3 [==============================] - 0s 26ms/step - loss: 0.0028 - val_loss: 0.0055\n",
            "Epoch 85/100\n",
            "3/3 [==============================] - 0s 26ms/step - loss: 0.0028 - val_loss: 0.0041\n",
            "Epoch 86/100\n",
            "3/3 [==============================] - 0s 32ms/step - loss: 0.0028 - val_loss: 0.0037\n",
            "Epoch 87/100\n",
            "3/3 [==============================] - 0s 25ms/step - loss: 0.0028 - val_loss: 0.0043\n",
            "Epoch 88/100\n",
            "3/3 [==============================] - 0s 27ms/step - loss: 0.0027 - val_loss: 0.0027\n",
            "Epoch 89/100\n",
            "3/3 [==============================] - 0s 25ms/step - loss: 0.0028 - val_loss: 0.0035\n",
            "Epoch 90/100\n",
            "3/3 [==============================] - 0s 26ms/step - loss: 0.0028 - val_loss: 0.0041\n",
            "Epoch 91/100\n",
            "3/3 [==============================] - 0s 25ms/step - loss: 0.0027 - val_loss: 0.0029\n",
            "Epoch 92/100\n",
            "3/3 [==============================] - 0s 25ms/step - loss: 0.0029 - val_loss: 0.0041\n",
            "Epoch 93/100\n",
            "3/3 [==============================] - 0s 25ms/step - loss: 0.0027 - val_loss: 0.0021\n",
            "Epoch 94/100\n",
            "3/3 [==============================] - 0s 28ms/step - loss: 0.0027 - val_loss: 0.0046\n",
            "Epoch 95/100\n",
            "3/3 [==============================] - 0s 26ms/step - loss: 0.0027 - val_loss: 0.0039\n",
            "Epoch 96/100\n",
            "3/3 [==============================] - 0s 25ms/step - loss: 0.0026 - val_loss: 0.0028\n",
            "Epoch 97/100\n",
            "3/3 [==============================] - 0s 25ms/step - loss: 0.0026 - val_loss: 0.0043\n",
            "Epoch 98/100\n",
            "3/3 [==============================] - 0s 25ms/step - loss: 0.0026 - val_loss: 0.0036\n",
            "Epoch 99/100\n",
            "3/3 [==============================] - 0s 26ms/step - loss: 0.0025 - val_loss: 0.0020\n",
            "Epoch 100/100\n",
            "3/3 [==============================] - 0s 27ms/step - loss: 0.0026 - val_loss: 0.0040\n"
          ]
        },
        {
          "output_type": "execute_result",
          "data": {
            "text/plain": [
              "<keras.src.callbacks.History at 0x79b9d06fcd30>"
            ]
          },
          "metadata": {},
          "execution_count": 27
        }
      ]
    },
    {
      "cell_type": "code",
      "source": [
        "train_predict=model.predict(X_train)\n",
        "test_predict=model.predict(X_test)"
      ],
      "metadata": {
        "colab": {
          "base_uri": "https://localhost:8080/"
        },
        "id": "lLacvXowkd1z",
        "outputId": "c7feb7a1-cbe1-4995-aebe-9feeffa57569"
      },
      "execution_count": null,
      "outputs": [
        {
          "output_type": "stream",
          "name": "stdout",
          "text": [
            "6/6 [==============================] - 1s 14ms/step\n",
            "2/2 [==============================] - 0s 13ms/step\n"
          ]
        }
      ]
    },
    {
      "cell_type": "code",
      "source": [
        "train_predict=scaler.inverse_transform(train_predict)\n",
        "test_predict=scaler.inverse_transform(test_predict)\n"
      ],
      "metadata": {
        "id": "_2UTlEVIl5Pw"
      },
      "execution_count": null,
      "outputs": []
    },
    {
      "cell_type": "code",
      "source": [
        "import math\n",
        "from sklearn.metrics import mean_squared_error\n",
        "math.sqrt(mean_squared_error(y_train,train_predict))"
      ],
      "metadata": {
        "colab": {
          "base_uri": "https://localhost:8080/"
        },
        "id": "V83PuW59mRQg",
        "outputId": "082d8b8e-c036-403d-f3f5-2cbf1b40b9ac"
      },
      "execution_count": null,
      "outputs": [
        {
          "output_type": "execute_result",
          "data": {
            "text/plain": [
              "160.31096036562803"
            ]
          },
          "metadata": {},
          "execution_count": 30
        }
      ]
    },
    {
      "cell_type": "code",
      "source": [
        "math.sqrt(mean_squared_error(y_test,test_predict))"
      ],
      "metadata": {
        "colab": {
          "base_uri": "https://localhost:8080/"
        },
        "id": "nUO0bSL2mlK1",
        "outputId": "955ae4ab-5eb3-4703-cdbc-488d0d8d7309"
      },
      "execution_count": null,
      "outputs": [
        {
          "output_type": "execute_result",
          "data": {
            "text/plain": [
              "241.50173797953647"
            ]
          },
          "metadata": {},
          "execution_count": 31
        }
      ]
    },
    {
      "cell_type": "code",
      "source": [
        "look_back=100\n",
        "trainPredictPlot = np.empty_like(share_close)\n",
        "trainPredictPlot[:, :] = np.nan\n",
        "trainPredictPlot[look_back:len(train_predict)+look_back, :] = train_predict\n",
        "# shift test predictions for plotting\n",
        "testPredictPlot = np.empty_like(share_close)\n",
        "testPredictPlot[:, :] = np.nan\n",
        "testPredictPlot[len(train_predict)+(look_back*2)+1:len(share_close)-1, :] = test_predict\n",
        "# plot baseline and predictions\n",
        "plt.plot(scaler.inverse_transform(share_close))\n",
        "plt.plot(trainPredictPlot)\n",
        "plt.plot(testPredictPlot)\n",
        "plt.title('graph of train predict and test predict')\n",
        "plt.legend([\"inverse transform of original\",\"train predict\",\"test predict\"])\n",
        "plt.show()\n"
      ],
      "metadata": {
        "colab": {
          "base_uri": "https://localhost:8080/",
          "height": 452
        },
        "id": "BUIZntmZm0j4",
        "outputId": "992364e9-2d3c-4f7d-a55c-921f26059b71"
      },
      "execution_count": null,
      "outputs": [
        {
          "output_type": "display_data",
          "data": {
            "text/plain": [
              "<Figure size 640x480 with 1 Axes>"
            ],
            "image/png": "[encoded data removed]"
          },
          "metadata": {}
        }
      ]
    },
    {
      "cell_type": "code",
      "source": [
        "print(\" In graph for time stamp 100 means for train predict : (orange color line):\\n i/p : (0 to 99 days)\\t o/p: (100th day)\\t close price: near by 50\\n i/p : (1 to 100 days)\\t o/p: (101th day)\\t close price: near by 50 \")"
      ],
      "metadata": {
        "colab": {
          "base_uri": "https://localhost:8080/"
        },
        "id": "lEKpWDendVXQ",
        "outputId": "f8597f6d-e39d-4790-daef-f1d526012e1f"
      },
      "execution_count": null,
      "outputs": [
        {
          "output_type": "stream",
          "name": "stdout",
          "text": [
            " In graph for time stamp 100 means for train predict : (orange color line):\n",
            " i/p : (0 to 99 days)\t o/p: (100th day)\t close price: near by 50\n",
            " i/p : (1 to 100 days)\t o/p: (101th day)\t close price: near by 50 \n"
          ]
        }
      ]
    },
    {
      "cell_type": "code",
      "source": [
        "len(test_data)"
      ],
      "metadata": {
        "colab": {
          "base_uri": "https://localhost:8080/"
        },
        "id": "lF53E8U0qPOv",
        "outputId": "8f715578-704c-4be5-e22a-b015ed7b1014"
      },
      "execution_count": null,
      "outputs": [
        {
          "output_type": "execute_result",
          "data": {
            "text/plain": [
              "148"
            ]
          },
          "metadata": {},
          "execution_count": 34
        }
      ]
    },
    {
      "cell_type": "code",
      "source": [
        "print(\"as my test_data length is 148 that means we have share price of 148 days but if i want for 149th day i have to consider previous 100 days' share rate\")"
      ],
      "metadata": {
        "colab": {
          "base_uri": "https://localhost:8080/"
        },
        "id": "2TJqIT2Kgmij",
        "outputId": "9231c462-a890-40dd-e5cb-d164a8c8c0ac"
      },
      "execution_count": null,
      "outputs": [
        {
          "output_type": "stream",
          "name": "stdout",
          "text": [
            "as my test_data length is 148 that means we have share price of 148 days but if i want for 149th day i have to consider previous 100 days' share rate\n"
          ]
        }
      ]
    },
    {
      "cell_type": "code",
      "source": [
        "x_input=test_data[48:].reshape(1,-1)\n",
        "x_input.shape"
      ],
      "metadata": {
        "colab": {
          "base_uri": "https://localhost:8080/"
        },
        "id": "mcMxY-hvqt7N",
        "outputId": "e9e9635b-5ffb-407b-983b-b21eb2b6f1dc"
      },
      "execution_count": null,
      "outputs": [
        {
          "output_type": "execute_result",
          "data": {
            "text/plain": [
              "(1, 100)"
            ]
          },
          "metadata": {},
          "execution_count": 36
        }
      ]
    },
    {
      "cell_type": "code",
      "source": [
        "temp_input=list(x_input)\n",
        "temp_input=temp_input[0].tolist()\n"
      ],
      "metadata": {
        "id": "SPKaWZvxq0aU"
      },
      "execution_count": null,
      "outputs": []
    },
    {
      "cell_type": "code",
      "source": [
        "temp_input"
      ],
      "metadata": {
        "colab": {
          "base_uri": "https://localhost:8080/"
        },
        "id": "_1qz9Zkeq6qB",
        "outputId": "a97eb90d-f98f-4de6-a87d-84a7e8166255"
      },
      "execution_count": null,
      "outputs": [
        {
          "output_type": "execute_result",
          "data": {
            "text/plain": [
              "[0.8510567972275255,\n",
              " 0.8139473570891835,\n",
              " 0.8221117195822601,\n",
              " 0.8232586607330885,\n",
              " 0.7922416821114794,\n",
              " 0.7976187450131651,\n",
              " 0.8286110527702876,\n",
              " 0.7984820559049975,\n",
              " 0.810457191907725,\n",
              " 0.8213100576241108,\n",
              " 0.7800445083283716,\n",
              " 0.7672923812319814,\n",
              " 0.7458333584440769,\n",
              " 0.7858409194712639,\n",
              " 0.7555762610788307,\n",
              " 0.7416402147624158,\n",
              " 0.7383596672464932,\n",
              " 0.7292333668587047,\n",
              " 0.7401232670993543,\n",
              " 0.6866852148849939,\n",
              " 0.6720832245926404,\n",
              " 0.6384023571571413,\n",
              " 0.6159566691549708,\n",
              " 0.6382173539010247,\n",
              " 0.6222957264064358,\n",
              " 0.6235783290844074,\n",
              " 0.6058067819387876,\n",
              " 0.6345668563279363,\n",
              " 0.6272904755911788,\n",
              " 0.6588131222521643,\n",
              " 0.6566549014776507,\n",
              " 0.6744634266924668,\n",
              " 0.688917504708035,\n",
              " 0.6819740959592469,\n",
              " 0.6803461576335289,\n",
              " 0.6571851839264463,\n",
              " 0.6173749333600855,\n",
              " 0.649699185524153,\n",
              " 0.6571975475862234,\n",
              " 0.655298286206219,\n",
              " 0.6493662135361835,\n",
              " 0.6633516015815718,\n",
              " 0.6630679148675084,\n",
              " 0.672687519634896,\n",
              " 0.6500814992410957,\n",
              " 0.6568768828029636,\n",
              " 0.6713432680232415,\n",
              " 0.6796185647239071,\n",
              " 0.6765599985332974,\n",
              " 0.6801118691035064,\n",
              " 0.7206374618298468,\n",
              " 0.7493112164208258,\n",
              " 0.7395066083973215,\n",
              " 0.7602873800045776,\n",
              " 0.7504704647763638,\n",
              " 0.7491631912339055,\n",
              " 0.7469679359351281,\n",
              " 0.7481765824747071,\n",
              " 0.7243496083366182,\n",
              " 0.7059367316244789,\n",
              " 0.7160002990424924,\n",
              " 0.7211060953449593,\n",
              " 0.7565628698380291,\n",
              " 0.7353997845138303,\n",
              " 0.7167032775426949,\n",
              " 0.7132747612949195,\n",
              " 0.7054064491756833,\n",
              " 0.7078729710736795,\n",
              " 0.7254842422827369,\n",
              " 0.7190588087780347,\n",
              " 0.7116221521047148,\n",
              " 0.7043704986875114,\n",
              " 0.7219323717125279,\n",
              " 0.7060970640161088,\n",
              " 0.7088102945589722,\n",
              " 0.7462650138899931,\n",
              " 0.7584127894890601,\n",
              " 0.7861246061853273,\n",
              " 0.7862109259834971,\n",
              " 0.7876661682578081,\n",
              " 0.7922416821114794,\n",
              " 0.7730888488299412,\n",
              " 0.7911686970990437,\n",
              " 0.7865192271069796,\n",
              " 0.7838430310883802,\n",
              " 0.8016392490984867,\n",
              " 0.7953742044404818,\n",
              " 0.7571424940157981,\n",
              " 0.7319096193323716,\n",
              " 0.7606203519925471,\n",
              " 0.741479882370786,\n",
              " 0.7498538060743309,\n",
              " 0.7819684405728625,\n",
              " 0.7846693074559488,\n",
              " 0.7880115039055545,\n",
              " 0.7756293833213975,\n",
              " 0.7888994856618736,\n",
              " 0.812319475218533,\n",
              " 0.8182515478885685,\n",
              " 0.8162412958459077]"
            ]
          },
          "metadata": {},
          "execution_count": 38
        }
      ]
    },
    {
      "cell_type": "code",
      "source": [
        "print(\" close price for next 30 days\\n\")\n",
        "from numpy import array\n",
        "\n",
        "lst_output=[]\n",
        "n_steps=100\n",
        "i=0\n",
        "while(i<30):\n",
        "\n",
        "    if(len(temp_input)>100):\n",
        "        #print(temp_input)\n",
        "        x_input=np.array(temp_input[1:])\n",
        "        print(\"\\n{} day input \\t{}\".format(i,x_input))\n",
        "        x_input=x_input.reshape(1,-1)\n",
        "        x_input = x_input.reshape((1, n_steps, 1))\n",
        "        #print(x_input)\n",
        "        yhat = model.predict(x_input, verbose=0)\n",
        "        print(\"\\n{} day output {}\".format(i,yhat))\n",
        "        temp_input.extend(yhat[0].tolist())\n",
        "        temp_input=temp_input[1:]\n",
        "        #print(temp_input)\n",
        "        lst_output.extend(yhat.tolist())\n",
        "        i=i+1\n",
        "    else:\n",
        "        x_input = x_input.reshape((1, n_steps,1))\n",
        "        yhat = model.predict(x_input, verbose=0)\n",
        "        print(yhat[0])\n",
        "        temp_input.extend(yhat[0].tolist())\n",
        "        print(len(temp_input))\n",
        "        lst_output.extend(yhat.tolist())\n",
        "        i=i+1\n",
        "\n",
        "\n",
        "print(lst_output)"
      ],
      "metadata": {
        "colab": {
          "base_uri": "https://localhost:8080/"
        },
        "id": "wkYvw4IcrA25",
        "outputId": "7c6b43da-6cd5-4c37-88ed-a655f712a8bf"
      },
      "execution_count": null,
      "outputs": [
        {
          "output_type": "stream",
          "name": "stdout",
          "text": [
            " close price for next 30 days\n",
            "\n",
            "[0.8531935]\n",
            "101\n",
            "\n",
            "1 day input \t[0.81394736 0.82211172 0.82325866 0.79224168 0.79761875 0.82861105\n",
            " 0.79848206 0.81045719 0.82131006 0.78004451 0.76729238 0.74583336\n",
            " 0.78584092 0.75557626 0.74164021 0.73835967 0.72923337 0.74012327\n",
            " 0.68668521 0.67208322 0.63840236 0.61595667 0.63821735 0.62229573\n",
            " 0.62357833 0.60580678 0.63456686 0.62729048 0.65881312 0.6566549\n",
            " 0.67446343 0.6889175  0.6819741  0.68034616 0.65718518 0.61737493\n",
            " 0.64969919 0.65719755 0.65529829 0.64936621 0.6633516  0.66306791\n",
            " 0.67268752 0.6500815  0.65687688 0.67134327 0.67961856 0.67656\n",
            " 0.68011187 0.72063746 0.74931122 0.73950661 0.76028738 0.75047046\n",
            " 0.74916319 0.74696794 0.74817658 0.72434961 0.70593673 0.7160003\n",
            " 0.7211061  0.75656287 0.73539978 0.71670328 0.71327476 0.70540645\n",
            " 0.70787297 0.72548424 0.71905881 0.71162215 0.7043705  0.72193237\n",
            " 0.70609706 0.70881029 0.74626501 0.75841279 0.78612461 0.78621093\n",
            " 0.78766617 0.79224168 0.77308885 0.7911687  0.78651923 0.78384303\n",
            " 0.80163925 0.7953742  0.75714249 0.73190962 0.76062035 0.74147988\n",
            " 0.74985381 0.78196844 0.78466931 0.7880115  0.77562938 0.78889949\n",
            " 0.81231948 0.81825155 0.8162413  0.85319352]\n",
            "\n",
            "1 day output [[0.86025953]]\n",
            "\n",
            "2 day input \t[0.82211172 0.82325866 0.79224168 0.79761875 0.82861105 0.79848206\n",
            " 0.81045719 0.82131006 0.78004451 0.76729238 0.74583336 0.78584092\n",
            " 0.75557626 0.74164021 0.73835967 0.72923337 0.74012327 0.68668521\n",
            " 0.67208322 0.63840236 0.61595667 0.63821735 0.62229573 0.62357833\n",
            " 0.60580678 0.63456686 0.62729048 0.65881312 0.6566549  0.67446343\n",
            " 0.6889175  0.6819741  0.68034616 0.65718518 0.61737493 0.64969919\n",
            " 0.65719755 0.65529829 0.64936621 0.6633516  0.66306791 0.67268752\n",
            " 0.6500815  0.65687688 0.67134327 0.67961856 0.67656    0.68011187\n",
            " 0.72063746 0.74931122 0.73950661 0.76028738 0.75047046 0.74916319\n",
            " 0.74696794 0.74817658 0.72434961 0.70593673 0.7160003  0.7211061\n",
            " 0.75656287 0.73539978 0.71670328 0.71327476 0.70540645 0.70787297\n",
            " 0.72548424 0.71905881 0.71162215 0.7043705  0.72193237 0.70609706\n",
            " 0.70881029 0.74626501 0.75841279 0.78612461 0.78621093 0.78766617\n",
            " 0.79224168 0.77308885 0.7911687  0.78651923 0.78384303 0.80163925\n",
            " 0.7953742  0.75714249 0.73190962 0.76062035 0.74147988 0.74985381\n",
            " 0.78196844 0.78466931 0.7880115  0.77562938 0.78889949 0.81231948\n",
            " 0.81825155 0.8162413  0.85319352 0.86025953]\n",
            "\n",
            "2 day output [[0.86876714]]\n",
            "\n",
            "3 day input \t[0.82325866 0.79224168 0.79761875 0.82861105 0.79848206 0.81045719\n",
            " 0.82131006 0.78004451 0.76729238 0.74583336 0.78584092 0.75557626\n",
            " 0.74164021 0.73835967 0.72923337 0.74012327 0.68668521 0.67208322\n",
            " 0.63840236 0.61595667 0.63821735 0.62229573 0.62357833 0.60580678\n",
            " 0.63456686 0.62729048 0.65881312 0.6566549  0.67446343 0.6889175\n",
            " 0.6819741  0.68034616 0.65718518 0.61737493 0.64969919 0.65719755\n",
            " 0.65529829 0.64936621 0.6633516  0.66306791 0.67268752 0.6500815\n",
            " 0.65687688 0.67134327 0.67961856 0.67656    0.68011187 0.72063746\n",
            " 0.74931122 0.73950661 0.76028738 0.75047046 0.74916319 0.74696794\n",
            " 0.74817658 0.72434961 0.70593673 0.7160003  0.7211061  0.75656287\n",
            " 0.73539978 0.71670328 0.71327476 0.70540645 0.70787297 0.72548424\n",
            " 0.71905881 0.71162215 0.7043705  0.72193237 0.70609706 0.70881029\n",
            " 0.74626501 0.75841279 0.78612461 0.78621093 0.78766617 0.79224168\n",
            " 0.77308885 0.7911687  0.78651923 0.78384303 0.80163925 0.7953742\n",
            " 0.75714249 0.73190962 0.76062035 0.74147988 0.74985381 0.78196844\n",
            " 0.78466931 0.7880115  0.77562938 0.78889949 0.81231948 0.81825155\n",
            " 0.8162413  0.85319352 0.86025953 0.86876714]\n",
            "\n",
            "3 day output [[0.87839836]]\n",
            "\n",
            "4 day input \t[0.79224168 0.79761875 0.82861105 0.79848206 0.81045719 0.82131006\n",
            " 0.78004451 0.76729238 0.74583336 0.78584092 0.75557626 0.74164021\n",
            " 0.73835967 0.72923337 0.74012327 0.68668521 0.67208322 0.63840236\n",
            " 0.61595667 0.63821735 0.62229573 0.62357833 0.60580678 0.63456686\n",
            " 0.62729048 0.65881312 0.6566549  0.67446343 0.6889175  0.6819741\n",
            " 0.68034616 0.65718518 0.61737493 0.64969919 0.65719755 0.65529829\n",
            " 0.64936621 0.6633516  0.66306791 0.67268752 0.6500815  0.65687688\n",
            " 0.67134327 0.67961856 0.67656    0.68011187 0.72063746 0.74931122\n",
            " 0.73950661 0.76028738 0.75047046 0.74916319 0.74696794 0.74817658\n",
            " 0.72434961 0.70593673 0.7160003  0.7211061  0.75656287 0.73539978\n",
            " 0.71670328 0.71327476 0.70540645 0.70787297 0.72548424 0.71905881\n",
            " 0.71162215 0.7043705  0.72193237 0.70609706 0.70881029 0.74626501\n",
            " 0.75841279 0.78612461 0.78621093 0.78766617 0.79224168 0.77308885\n",
            " 0.7911687  0.78651923 0.78384303 0.80163925 0.7953742  0.75714249\n",
            " 0.73190962 0.76062035 0.74147988 0.74985381 0.78196844 0.78466931\n",
            " 0.7880115  0.77562938 0.78889949 0.81231948 0.81825155 0.8162413\n",
            " 0.85319352 0.86025953 0.86876714 0.87839836]\n",
            "\n",
            "4 day output [[0.88882244]]\n",
            "\n",
            "5 day input \t[0.79761875 0.82861105 0.79848206 0.81045719 0.82131006 0.78004451\n",
            " 0.76729238 0.74583336 0.78584092 0.75557626 0.74164021 0.73835967\n",
            " 0.72923337 0.74012327 0.68668521 0.67208322 0.63840236 0.61595667\n",
            " 0.63821735 0.62229573 0.62357833 0.60580678 0.63456686 0.62729048\n",
            " 0.65881312 0.6566549  0.67446343 0.6889175  0.6819741  0.68034616\n",
            " 0.65718518 0.61737493 0.64969919 0.65719755 0.65529829 0.64936621\n",
            " 0.6633516  0.66306791 0.67268752 0.6500815  0.65687688 0.67134327\n",
            " 0.67961856 0.67656    0.68011187 0.72063746 0.74931122 0.73950661\n",
            " 0.76028738 0.75047046 0.74916319 0.74696794 0.74817658 0.72434961\n",
            " 0.70593673 0.7160003  0.7211061  0.75656287 0.73539978 0.71670328\n",
            " 0.71327476 0.70540645 0.70787297 0.72548424 0.71905881 0.71162215\n",
            " 0.7043705  0.72193237 0.70609706 0.70881029 0.74626501 0.75841279\n",
            " 0.78612461 0.78621093 0.78766617 0.79224168 0.77308885 0.7911687\n",
            " 0.78651923 0.78384303 0.80163925 0.7953742  0.75714249 0.73190962\n",
            " 0.76062035 0.74147988 0.74985381 0.78196844 0.78466931 0.7880115\n",
            " 0.77562938 0.78889949 0.81231948 0.81825155 0.8162413  0.85319352\n",
            " 0.86025953 0.86876714 0.87839836 0.88882244]\n",
            "\n",
            "5 day output [[0.8997557]]\n",
            "\n",
            "6 day input \t[0.82861105 0.79848206 0.81045719 0.82131006 0.78004451 0.76729238\n",
            " 0.74583336 0.78584092 0.75557626 0.74164021 0.73835967 0.72923337\n",
            " 0.74012327 0.68668521 0.67208322 0.63840236 0.61595667 0.63821735\n",
            " 0.62229573 0.62357833 0.60580678 0.63456686 0.62729048 0.65881312\n",
            " 0.6566549  0.67446343 0.6889175  0.6819741  0.68034616 0.65718518\n",
            " 0.61737493 0.64969919 0.65719755 0.65529829 0.64936621 0.6633516\n",
            " 0.66306791 0.67268752 0.6500815  0.65687688 0.67134327 0.67961856\n",
            " 0.67656    0.68011187 0.72063746 0.74931122 0.73950661 0.76028738\n",
            " 0.75047046 0.74916319 0.74696794 0.74817658 0.72434961 0.70593673\n",
            " 0.7160003  0.7211061  0.75656287 0.73539978 0.71670328 0.71327476\n",
            " 0.70540645 0.70787297 0.72548424 0.71905881 0.71162215 0.7043705\n",
            " 0.72193237 0.70609706 0.70881029 0.74626501 0.75841279 0.78612461\n",
            " 0.78621093 0.78766617 0.79224168 0.77308885 0.7911687  0.78651923\n",
            " 0.78384303 0.80163925 0.7953742  0.75714249 0.73190962 0.76062035\n",
            " 0.74147988 0.74985381 0.78196844 0.78466931 0.7880115  0.77562938\n",
            " 0.78889949 0.81231948 0.81825155 0.8162413  0.85319352 0.86025953\n",
            " 0.86876714 0.87839836 0.88882244 0.89975572]\n",
            "\n",
            "6 day output [[0.9109813]]\n",
            "\n",
            "7 day input \t[0.79848206 0.81045719 0.82131006 0.78004451 0.76729238 0.74583336\n",
            " 0.78584092 0.75557626 0.74164021 0.73835967 0.72923337 0.74012327\n",
            " 0.68668521 0.67208322 0.63840236 0.61595667 0.63821735 0.62229573\n",
            " 0.62357833 0.60580678 0.63456686 0.62729048 0.65881312 0.6566549\n",
            " 0.67446343 0.6889175  0.6819741  0.68034616 0.65718518 0.61737493\n",
            " 0.64969919 0.65719755 0.65529829 0.64936621 0.6633516  0.66306791\n",
            " 0.67268752 0.6500815  0.65687688 0.67134327 0.67961856 0.67656\n",
            " 0.68011187 0.72063746 0.74931122 0.73950661 0.76028738 0.75047046\n",
            " 0.74916319 0.74696794 0.74817658 0.72434961 0.70593673 0.7160003\n",
            " 0.7211061  0.75656287 0.73539978 0.71670328 0.71327476 0.70540645\n",
            " 0.70787297 0.72548424 0.71905881 0.71162215 0.7043705  0.72193237\n",
            " 0.70609706 0.70881029 0.74626501 0.75841279 0.78612461 0.78621093\n",
            " 0.78766617 0.79224168 0.77308885 0.7911687  0.78651923 0.78384303\n",
            " 0.80163925 0.7953742  0.75714249 0.73190962 0.76062035 0.74147988\n",
            " 0.74985381 0.78196844 0.78466931 0.7880115  0.77562938 0.78889949\n",
            " 0.81231948 0.81825155 0.8162413  0.85319352 0.86025953 0.86876714\n",
            " 0.87839836 0.88882244 0.89975572 0.9109813 ]\n",
            "\n",
            "7 day output [[0.92234814]]\n",
            "\n",
            "8 day input \t[0.81045719 0.82131006 0.78004451 0.76729238 0.74583336 0.78584092\n",
            " 0.75557626 0.74164021 0.73835967 0.72923337 0.74012327 0.68668521\n",
            " 0.67208322 0.63840236 0.61595667 0.63821735 0.62229573 0.62357833\n",
            " 0.60580678 0.63456686 0.62729048 0.65881312 0.6566549  0.67446343\n",
            " 0.6889175  0.6819741  0.68034616 0.65718518 0.61737493 0.64969919\n",
            " 0.65719755 0.65529829 0.64936621 0.6633516  0.66306791 0.67268752\n",
            " 0.6500815  0.65687688 0.67134327 0.67961856 0.67656    0.68011187\n",
            " 0.72063746 0.74931122 0.73950661 0.76028738 0.75047046 0.74916319\n",
            " 0.74696794 0.74817658 0.72434961 0.70593673 0.7160003  0.7211061\n",
            " 0.75656287 0.73539978 0.71670328 0.71327476 0.70540645 0.70787297\n",
            " 0.72548424 0.71905881 0.71162215 0.7043705  0.72193237 0.70609706\n",
            " 0.70881029 0.74626501 0.75841279 0.78612461 0.78621093 0.78766617\n",
            " 0.79224168 0.77308885 0.7911687  0.78651923 0.78384303 0.80163925\n",
            " 0.7953742  0.75714249 0.73190962 0.76062035 0.74147988 0.74985381\n",
            " 0.78196844 0.78466931 0.7880115  0.77562938 0.78889949 0.81231948\n",
            " 0.81825155 0.8162413  0.85319352 0.86025953 0.86876714 0.87839836\n",
            " 0.88882244 0.89975572 0.9109813  0.92234814]\n",
            "\n",
            "8 day output [[0.9337597]]\n",
            "\n",
            "9 day input \t[0.82131006 0.78004451 0.76729238 0.74583336 0.78584092 0.75557626\n",
            " 0.74164021 0.73835967 0.72923337 0.74012327 0.68668521 0.67208322\n",
            " 0.63840236 0.61595667 0.63821735 0.62229573 0.62357833 0.60580678\n",
            " 0.63456686 0.62729048 0.65881312 0.6566549  0.67446343 0.6889175\n",
            " 0.6819741  0.68034616 0.65718518 0.61737493 0.64969919 0.65719755\n",
            " 0.65529829 0.64936621 0.6633516  0.66306791 0.67268752 0.6500815\n",
            " 0.65687688 0.67134327 0.67961856 0.67656    0.68011187 0.72063746\n",
            " 0.74931122 0.73950661 0.76028738 0.75047046 0.74916319 0.74696794\n",
            " 0.74817658 0.72434961 0.70593673 0.7160003  0.7211061  0.75656287\n",
            " 0.73539978 0.71670328 0.71327476 0.70540645 0.70787297 0.72548424\n",
            " 0.71905881 0.71162215 0.7043705  0.72193237 0.70609706 0.70881029\n",
            " 0.74626501 0.75841279 0.78612461 0.78621093 0.78766617 0.79224168\n",
            " 0.77308885 0.7911687  0.78651923 0.78384303 0.80163925 0.7953742\n",
            " 0.75714249 0.73190962 0.76062035 0.74147988 0.74985381 0.78196844\n",
            " 0.78466931 0.7880115  0.77562938 0.78889949 0.81231948 0.81825155\n",
            " 0.8162413  0.85319352 0.86025953 0.86876714 0.87839836 0.88882244\n",
            " 0.89975572 0.9109813  0.92234814 0.93375969]\n",
            "\n",
            "9 day output [[0.9451602]]\n",
            "\n",
            "10 day input \t[0.78004451 0.76729238 0.74583336 0.78584092 0.75557626 0.74164021\n",
            " 0.73835967 0.72923337 0.74012327 0.68668521 0.67208322 0.63840236\n",
            " 0.61595667 0.63821735 0.62229573 0.62357833 0.60580678 0.63456686\n",
            " 0.62729048 0.65881312 0.6566549  0.67446343 0.6889175  0.6819741\n",
            " 0.68034616 0.65718518 0.61737493 0.64969919 0.65719755 0.65529829\n",
            " 0.64936621 0.6633516  0.66306791 0.67268752 0.6500815  0.65687688\n",
            " 0.67134327 0.67961856 0.67656    0.68011187 0.72063746 0.74931122\n",
            " 0.73950661 0.76028738 0.75047046 0.74916319 0.74696794 0.74817658\n",
            " 0.72434961 0.70593673 0.7160003  0.7211061  0.75656287 0.73539978\n",
            " 0.71670328 0.71327476 0.70540645 0.70787297 0.72548424 0.71905881\n",
            " 0.71162215 0.7043705  0.72193237 0.70609706 0.70881029 0.74626501\n",
            " 0.75841279 0.78612461 0.78621093 0.78766617 0.79224168 0.77308885\n",
            " 0.7911687  0.78651923 0.78384303 0.80163925 0.7953742  0.75714249\n",
            " 0.73190962 0.76062035 0.74147988 0.74985381 0.78196844 0.78466931\n",
            " 0.7880115  0.77562938 0.78889949 0.81231948 0.81825155 0.8162413\n",
            " 0.85319352 0.86025953 0.86876714 0.87839836 0.88882244 0.89975572\n",
            " 0.9109813  0.92234814 0.93375969 0.94516021]\n",
            "\n",
            "10 day output [[0.95652133]]\n",
            "\n",
            "11 day input \t[0.76729238 0.74583336 0.78584092 0.75557626 0.74164021 0.73835967\n",
            " 0.72923337 0.74012327 0.68668521 0.67208322 0.63840236 0.61595667\n",
            " 0.63821735 0.62229573 0.62357833 0.60580678 0.63456686 0.62729048\n",
            " 0.65881312 0.6566549  0.67446343 0.6889175  0.6819741  0.68034616\n",
            " 0.65718518 0.61737493 0.64969919 0.65719755 0.65529829 0.64936621\n",
            " 0.6633516  0.66306791 0.67268752 0.6500815  0.65687688 0.67134327\n",
            " 0.67961856 0.67656    0.68011187 0.72063746 0.74931122 0.73950661\n",
            " 0.76028738 0.75047046 0.74916319 0.74696794 0.74817658 0.72434961\n",
            " 0.70593673 0.7160003  0.7211061  0.75656287 0.73539978 0.71670328\n",
            " 0.71327476 0.70540645 0.70787297 0.72548424 0.71905881 0.71162215\n",
            " 0.7043705  0.72193237 0.70609706 0.70881029 0.74626501 0.75841279\n",
            " 0.78612461 0.78621093 0.78766617 0.79224168 0.77308885 0.7911687\n",
            " 0.78651923 0.78384303 0.80163925 0.7953742  0.75714249 0.73190962\n",
            " 0.76062035 0.74147988 0.74985381 0.78196844 0.78466931 0.7880115\n",
            " 0.77562938 0.78889949 0.81231948 0.81825155 0.8162413  0.85319352\n",
            " 0.86025953 0.86876714 0.87839836 0.88882244 0.89975572 0.9109813\n",
            " 0.92234814 0.93375969 0.94516021 0.95652133]\n",
            "\n",
            "11 day output [[0.9678321]]\n",
            "\n",
            "12 day input \t[0.74583336 0.78584092 0.75557626 0.74164021 0.73835967 0.72923337\n",
            " 0.74012327 0.68668521 0.67208322 0.63840236 0.61595667 0.63821735\n",
            " 0.62229573 0.62357833 0.60580678 0.63456686 0.62729048 0.65881312\n",
            " 0.6566549  0.67446343 0.6889175  0.6819741  0.68034616 0.65718518\n",
            " 0.61737493 0.64969919 0.65719755 0.65529829 0.64936621 0.6633516\n",
            " 0.66306791 0.67268752 0.6500815  0.65687688 0.67134327 0.67961856\n",
            " 0.67656    0.68011187 0.72063746 0.74931122 0.73950661 0.76028738\n",
            " 0.75047046 0.74916319 0.74696794 0.74817658 0.72434961 0.70593673\n",
            " 0.7160003  0.7211061  0.75656287 0.73539978 0.71670328 0.71327476\n",
            " 0.70540645 0.70787297 0.72548424 0.71905881 0.71162215 0.7043705\n",
            " 0.72193237 0.70609706 0.70881029 0.74626501 0.75841279 0.78612461\n",
            " 0.78621093 0.78766617 0.79224168 0.77308885 0.7911687  0.78651923\n",
            " 0.78384303 0.80163925 0.7953742  0.75714249 0.73190962 0.76062035\n",
            " 0.74147988 0.74985381 0.78196844 0.78466931 0.7880115  0.77562938\n",
            " 0.78889949 0.81231948 0.81825155 0.8162413  0.85319352 0.86025953\n",
            " 0.86876714 0.87839836 0.88882244 0.89975572 0.9109813  0.92234814\n",
            " 0.93375969 0.94516021 0.95652133 0.96783209]\n",
            "\n",
            "12 day output [[0.97909117]]\n",
            "\n",
            "13 day input \t[0.78584092 0.75557626 0.74164021 0.73835967 0.72923337 0.74012327\n",
            " 0.68668521 0.67208322 0.63840236 0.61595667 0.63821735 0.62229573\n",
            " 0.62357833 0.60580678 0.63456686 0.62729048 0.65881312 0.6566549\n",
            " 0.67446343 0.6889175  0.6819741  0.68034616 0.65718518 0.61737493\n",
            " 0.64969919 0.65719755 0.65529829 0.64936621 0.6633516  0.66306791\n",
            " 0.67268752 0.6500815  0.65687688 0.67134327 0.67961856 0.67656\n",
            " 0.68011187 0.72063746 0.74931122 0.73950661 0.76028738 0.75047046\n",
            " 0.74916319 0.74696794 0.74817658 0.72434961 0.70593673 0.7160003\n",
            " 0.7211061  0.75656287 0.73539978 0.71670328 0.71327476 0.70540645\n",
            " 0.70787297 0.72548424 0.71905881 0.71162215 0.7043705  0.72193237\n",
            " 0.70609706 0.70881029 0.74626501 0.75841279 0.78612461 0.78621093\n",
            " 0.78766617 0.79224168 0.77308885 0.7911687  0.78651923 0.78384303\n",
            " 0.80163925 0.7953742  0.75714249 0.73190962 0.76062035 0.74147988\n",
            " 0.74985381 0.78196844 0.78466931 0.7880115  0.77562938 0.78889949\n",
            " 0.81231948 0.81825155 0.8162413  0.85319352 0.86025953 0.86876714\n",
            " 0.87839836 0.88882244 0.89975572 0.9109813  0.92234814 0.93375969\n",
            " 0.94516021 0.95652133 0.96783209 0.97909117]\n",
            "\n",
            "13 day output [[0.9903016]]\n",
            "\n",
            "14 day input \t[0.75557626 0.74164021 0.73835967 0.72923337 0.74012327 0.68668521\n",
            " 0.67208322 0.63840236 0.61595667 0.63821735 0.62229573 0.62357833\n",
            " 0.60580678 0.63456686 0.62729048 0.65881312 0.6566549  0.67446343\n",
            " 0.6889175  0.6819741  0.68034616 0.65718518 0.61737493 0.64969919\n",
            " 0.65719755 0.65529829 0.64936621 0.6633516  0.66306791 0.67268752\n",
            " 0.6500815  0.65687688 0.67134327 0.67961856 0.67656    0.68011187\n",
            " 0.72063746 0.74931122 0.73950661 0.76028738 0.75047046 0.74916319\n",
            " 0.74696794 0.74817658 0.72434961 0.70593673 0.7160003  0.7211061\n",
            " 0.75656287 0.73539978 0.71670328 0.71327476 0.70540645 0.70787297\n",
            " 0.72548424 0.71905881 0.71162215 0.7043705  0.72193237 0.70609706\n",
            " 0.70881029 0.74626501 0.75841279 0.78612461 0.78621093 0.78766617\n",
            " 0.79224168 0.77308885 0.7911687  0.78651923 0.78384303 0.80163925\n",
            " 0.7953742  0.75714249 0.73190962 0.76062035 0.74147988 0.74985381\n",
            " 0.78196844 0.78466931 0.7880115  0.77562938 0.78889949 0.81231948\n",
            " 0.81825155 0.8162413  0.85319352 0.86025953 0.86876714 0.87839836\n",
            " 0.88882244 0.89975572 0.9109813  0.92234814 0.93375969 0.94516021\n",
            " 0.95652133 0.96783209 0.97909117 0.99030161]\n",
            "\n",
            "14 day output [[1.001468]]\n",
            "\n",
            "15 day input \t[0.74164021 0.73835967 0.72923337 0.74012327 0.68668521 0.67208322\n",
            " 0.63840236 0.61595667 0.63821735 0.62229573 0.62357833 0.60580678\n",
            " 0.63456686 0.62729048 0.65881312 0.6566549  0.67446343 0.6889175\n",
            " 0.6819741  0.68034616 0.65718518 0.61737493 0.64969919 0.65719755\n",
            " 0.65529829 0.64936621 0.6633516  0.66306791 0.67268752 0.6500815\n",
            " 0.65687688 0.67134327 0.67961856 0.67656    0.68011187 0.72063746\n",
            " 0.74931122 0.73950661 0.76028738 0.75047046 0.74916319 0.74696794\n",
            " 0.74817658 0.72434961 0.70593673 0.7160003  0.7211061  0.75656287\n",
            " 0.73539978 0.71670328 0.71327476 0.70540645 0.70787297 0.72548424\n",
            " 0.71905881 0.71162215 0.7043705  0.72193237 0.70609706 0.70881029\n",
            " 0.74626501 0.75841279 0.78612461 0.78621093 0.78766617 0.79224168\n",
            " 0.77308885 0.7911687  0.78651923 0.78384303 0.80163925 0.7953742\n",
            " 0.75714249 0.73190962 0.76062035 0.74147988 0.74985381 0.78196844\n",
            " 0.78466931 0.7880115  0.77562938 0.78889949 0.81231948 0.81825155\n",
            " 0.8162413  0.85319352 0.86025953 0.86876714 0.87839836 0.88882244\n",
            " 0.89975572 0.9109813  0.92234814 0.93375969 0.94516021 0.95652133\n",
            " 0.96783209 0.97909117 0.99030161 1.00146794]\n",
            "\n",
            "15 day output [[1.0125947]]\n",
            "\n",
            "16 day input \t[0.73835967 0.72923337 0.74012327 0.68668521 0.67208322 0.63840236\n",
            " 0.61595667 0.63821735 0.62229573 0.62357833 0.60580678 0.63456686\n",
            " 0.62729048 0.65881312 0.6566549  0.67446343 0.6889175  0.6819741\n",
            " 0.68034616 0.65718518 0.61737493 0.64969919 0.65719755 0.65529829\n",
            " 0.64936621 0.6633516  0.66306791 0.67268752 0.6500815  0.65687688\n",
            " 0.67134327 0.67961856 0.67656    0.68011187 0.72063746 0.74931122\n",
            " 0.73950661 0.76028738 0.75047046 0.74916319 0.74696794 0.74817658\n",
            " 0.72434961 0.70593673 0.7160003  0.7211061  0.75656287 0.73539978\n",
            " 0.71670328 0.71327476 0.70540645 0.70787297 0.72548424 0.71905881\n",
            " 0.71162215 0.7043705  0.72193237 0.70609706 0.70881029 0.74626501\n",
            " 0.75841279 0.78612461 0.78621093 0.78766617 0.79224168 0.77308885\n",
            " 0.7911687  0.78651923 0.78384303 0.80163925 0.7953742  0.75714249\n",
            " 0.73190962 0.76062035 0.74147988 0.74985381 0.78196844 0.78466931\n",
            " 0.7880115  0.77562938 0.78889949 0.81231948 0.81825155 0.8162413\n",
            " 0.85319352 0.86025953 0.86876714 0.87839836 0.88882244 0.89975572\n",
            " 0.9109813  0.92234814 0.93375969 0.94516021 0.95652133 0.96783209\n",
            " 0.97909117 0.99030161 1.00146794 1.0125947 ]\n",
            "\n",
            "16 day output [[1.0236847]]\n",
            "\n",
            "17 day input \t[0.72923337 0.74012327 0.68668521 0.67208322 0.63840236 0.61595667\n",
            " 0.63821735 0.62229573 0.62357833 0.60580678 0.63456686 0.62729048\n",
            " 0.65881312 0.6566549  0.67446343 0.6889175  0.6819741  0.68034616\n",
            " 0.65718518 0.61737493 0.64969919 0.65719755 0.65529829 0.64936621\n",
            " 0.6633516  0.66306791 0.67268752 0.6500815  0.65687688 0.67134327\n",
            " 0.67961856 0.67656    0.68011187 0.72063746 0.74931122 0.73950661\n",
            " 0.76028738 0.75047046 0.74916319 0.74696794 0.74817658 0.72434961\n",
            " 0.70593673 0.7160003  0.7211061  0.75656287 0.73539978 0.71670328\n",
            " 0.71327476 0.70540645 0.70787297 0.72548424 0.71905881 0.71162215\n",
            " 0.7043705  0.72193237 0.70609706 0.70881029 0.74626501 0.75841279\n",
            " 0.78612461 0.78621093 0.78766617 0.79224168 0.77308885 0.7911687\n",
            " 0.78651923 0.78384303 0.80163925 0.7953742  0.75714249 0.73190962\n",
            " 0.76062035 0.74147988 0.74985381 0.78196844 0.78466931 0.7880115\n",
            " 0.77562938 0.78889949 0.81231948 0.81825155 0.8162413  0.85319352\n",
            " 0.86025953 0.86876714 0.87839836 0.88882244 0.89975572 0.9109813\n",
            " 0.92234814 0.93375969 0.94516021 0.95652133 0.96783209 0.97909117\n",
            " 0.99030161 1.00146794 1.0125947  1.02368474]\n",
            "\n",
            "17 day output [[1.0347399]]\n",
            "\n",
            "18 day input \t[0.74012327 0.68668521 0.67208322 0.63840236 0.61595667 0.63821735\n",
            " 0.62229573 0.62357833 0.60580678 0.63456686 0.62729048 0.65881312\n",
            " 0.6566549  0.67446343 0.6889175  0.6819741  0.68034616 0.65718518\n",
            " 0.61737493 0.64969919 0.65719755 0.65529829 0.64936621 0.6633516\n",
            " 0.66306791 0.67268752 0.6500815  0.65687688 0.67134327 0.67961856\n",
            " 0.67656    0.68011187 0.72063746 0.74931122 0.73950661 0.76028738\n",
            " 0.75047046 0.74916319 0.74696794 0.74817658 0.72434961 0.70593673\n",
            " 0.7160003  0.7211061  0.75656287 0.73539978 0.71670328 0.71327476\n",
            " 0.70540645 0.70787297 0.72548424 0.71905881 0.71162215 0.7043705\n",
            " 0.72193237 0.70609706 0.70881029 0.74626501 0.75841279 0.78612461\n",
            " 0.78621093 0.78766617 0.79224168 0.77308885 0.7911687  0.78651923\n",
            " 0.78384303 0.80163925 0.7953742  0.75714249 0.73190962 0.76062035\n",
            " 0.74147988 0.74985381 0.78196844 0.78466931 0.7880115  0.77562938\n",
            " 0.78889949 0.81231948 0.81825155 0.8162413  0.85319352 0.86025953\n",
            " 0.86876714 0.87839836 0.88882244 0.89975572 0.9109813  0.92234814\n",
            " 0.93375969 0.94516021 0.95652133 0.96783209 0.97909117 0.99030161\n",
            " 1.00146794 1.0125947  1.02368474 1.03473985]\n",
            "\n",
            "18 day output [[1.0457605]]\n",
            "\n",
            "19 day input \t[0.68668521 0.67208322 0.63840236 0.61595667 0.63821735 0.62229573\n",
            " 0.62357833 0.60580678 0.63456686 0.62729048 0.65881312 0.6566549\n",
            " 0.67446343 0.6889175  0.6819741  0.68034616 0.65718518 0.61737493\n",
            " 0.64969919 0.65719755 0.65529829 0.64936621 0.6633516  0.66306791\n",
            " 0.67268752 0.6500815  0.65687688 0.67134327 0.67961856 0.67656\n",
            " 0.68011187 0.72063746 0.74931122 0.73950661 0.76028738 0.75047046\n",
            " 0.74916319 0.74696794 0.74817658 0.72434961 0.70593673 0.7160003\n",
            " 0.7211061  0.75656287 0.73539978 0.71670328 0.71327476 0.70540645\n",
            " 0.70787297 0.72548424 0.71905881 0.71162215 0.7043705  0.72193237\n",
            " 0.70609706 0.70881029 0.74626501 0.75841279 0.78612461 0.78621093\n",
            " 0.78766617 0.79224168 0.77308885 0.7911687  0.78651923 0.78384303\n",
            " 0.80163925 0.7953742  0.75714249 0.73190962 0.76062035 0.74147988\n",
            " 0.74985381 0.78196844 0.78466931 0.7880115  0.77562938 0.78889949\n",
            " 0.81231948 0.81825155 0.8162413  0.85319352 0.86025953 0.86876714\n",
            " 0.87839836 0.88882244 0.89975572 0.9109813  0.92234814 0.93375969\n",
            " 0.94516021 0.95652133 0.96783209 0.97909117 0.99030161 1.00146794\n",
            " 1.0125947  1.02368474 1.03473985 1.04576051]\n",
            "\n",
            "19 day output [[1.0567454]]\n",
            "\n",
            "20 day input \t[0.67208322 0.63840236 0.61595667 0.63821735 0.62229573 0.62357833\n",
            " 0.60580678 0.63456686 0.62729048 0.65881312 0.6566549  0.67446343\n",
            " 0.6889175  0.6819741  0.68034616 0.65718518 0.61737493 0.64969919\n",
            " 0.65719755 0.65529829 0.64936621 0.6633516  0.66306791 0.67268752\n",
            " 0.6500815  0.65687688 0.67134327 0.67961856 0.67656    0.68011187\n",
            " 0.72063746 0.74931122 0.73950661 0.76028738 0.75047046 0.74916319\n",
            " 0.74696794 0.74817658 0.72434961 0.70593673 0.7160003  0.7211061\n",
            " 0.75656287 0.73539978 0.71670328 0.71327476 0.70540645 0.70787297\n",
            " 0.72548424 0.71905881 0.71162215 0.7043705  0.72193237 0.70609706\n",
            " 0.70881029 0.74626501 0.75841279 0.78612461 0.78621093 0.78766617\n",
            " 0.79224168 0.77308885 0.7911687  0.78651923 0.78384303 0.80163925\n",
            " 0.7953742  0.75714249 0.73190962 0.76062035 0.74147988 0.74985381\n",
            " 0.78196844 0.78466931 0.7880115  0.77562938 0.78889949 0.81231948\n",
            " 0.81825155 0.8162413  0.85319352 0.86025953 0.86876714 0.87839836\n",
            " 0.88882244 0.89975572 0.9109813  0.92234814 0.93375969 0.94516021\n",
            " 0.95652133 0.96783209 0.97909117 0.99030161 1.00146794 1.0125947\n",
            " 1.02368474 1.03473985 1.04576051 1.05674541]\n",
            "\n",
            "20 day output [[1.0676925]]\n",
            "\n",
            "21 day input \t[0.63840236 0.61595667 0.63821735 0.62229573 0.62357833 0.60580678\n",
            " 0.63456686 0.62729048 0.65881312 0.6566549  0.67446343 0.6889175\n",
            " 0.6819741  0.68034616 0.65718518 0.61737493 0.64969919 0.65719755\n",
            " 0.65529829 0.64936621 0.6633516  0.66306791 0.67268752 0.6500815\n",
            " 0.65687688 0.67134327 0.67961856 0.67656    0.68011187 0.72063746\n",
            " 0.74931122 0.73950661 0.76028738 0.75047046 0.74916319 0.74696794\n",
            " 0.74817658 0.72434961 0.70593673 0.7160003  0.7211061  0.75656287\n",
            " 0.73539978 0.71670328 0.71327476 0.70540645 0.70787297 0.72548424\n",
            " 0.71905881 0.71162215 0.7043705  0.72193237 0.70609706 0.70881029\n",
            " 0.74626501 0.75841279 0.78612461 0.78621093 0.78766617 0.79224168\n",
            " 0.77308885 0.7911687  0.78651923 0.78384303 0.80163925 0.7953742\n",
            " 0.75714249 0.73190962 0.76062035 0.74147988 0.74985381 0.78196844\n",
            " 0.78466931 0.7880115  0.77562938 0.78889949 0.81231948 0.81825155\n",
            " 0.8162413  0.85319352 0.86025953 0.86876714 0.87839836 0.88882244\n",
            " 0.89975572 0.9109813  0.92234814 0.93375969 0.94516021 0.95652133\n",
            " 0.96783209 0.97909117 0.99030161 1.00146794 1.0125947  1.02368474\n",
            " 1.03473985 1.04576051 1.05674541 1.06769252]\n",
            "\n",
            "21 day output [[1.0785987]]\n",
            "\n",
            "22 day input \t[0.61595667 0.63821735 0.62229573 0.62357833 0.60580678 0.63456686\n",
            " 0.62729048 0.65881312 0.6566549  0.67446343 0.6889175  0.6819741\n",
            " 0.68034616 0.65718518 0.61737493 0.64969919 0.65719755 0.65529829\n",
            " 0.64936621 0.6633516  0.66306791 0.67268752 0.6500815  0.65687688\n",
            " 0.67134327 0.67961856 0.67656    0.68011187 0.72063746 0.74931122\n",
            " 0.73950661 0.76028738 0.75047046 0.74916319 0.74696794 0.74817658\n",
            " 0.72434961 0.70593673 0.7160003  0.7211061  0.75656287 0.73539978\n",
            " 0.71670328 0.71327476 0.70540645 0.70787297 0.72548424 0.71905881\n",
            " 0.71162215 0.7043705  0.72193237 0.70609706 0.70881029 0.74626501\n",
            " 0.75841279 0.78612461 0.78621093 0.78766617 0.79224168 0.77308885\n",
            " 0.7911687  0.78651923 0.78384303 0.80163925 0.7953742  0.75714249\n",
            " 0.73190962 0.76062035 0.74147988 0.74985381 0.78196844 0.78466931\n",
            " 0.7880115  0.77562938 0.78889949 0.81231948 0.81825155 0.8162413\n",
            " 0.85319352 0.86025953 0.86876714 0.87839836 0.88882244 0.89975572\n",
            " 0.9109813  0.92234814 0.93375969 0.94516021 0.95652133 0.96783209\n",
            " 0.97909117 0.99030161 1.00146794 1.0125947  1.02368474 1.03473985\n",
            " 1.04576051 1.05674541 1.06769252 1.07859874]\n",
            "\n",
            "22 day output [[1.0894597]]\n",
            "\n",
            "23 day input \t[0.63821735 0.62229573 0.62357833 0.60580678 0.63456686 0.62729048\n",
            " 0.65881312 0.6566549  0.67446343 0.6889175  0.6819741  0.68034616\n",
            " 0.65718518 0.61737493 0.64969919 0.65719755 0.65529829 0.64936621\n",
            " 0.6633516  0.66306791 0.67268752 0.6500815  0.65687688 0.67134327\n",
            " 0.67961856 0.67656    0.68011187 0.72063746 0.74931122 0.73950661\n",
            " 0.76028738 0.75047046 0.74916319 0.74696794 0.74817658 0.72434961\n",
            " 0.70593673 0.7160003  0.7211061  0.75656287 0.73539978 0.71670328\n",
            " 0.71327476 0.70540645 0.70787297 0.72548424 0.71905881 0.71162215\n",
            " 0.7043705  0.72193237 0.70609706 0.70881029 0.74626501 0.75841279\n",
            " 0.78612461 0.78621093 0.78766617 0.79224168 0.77308885 0.7911687\n",
            " 0.78651923 0.78384303 0.80163925 0.7953742  0.75714249 0.73190962\n",
            " 0.76062035 0.74147988 0.74985381 0.78196844 0.78466931 0.7880115\n",
            " 0.77562938 0.78889949 0.81231948 0.81825155 0.8162413  0.85319352\n",
            " 0.86025953 0.86876714 0.87839836 0.88882244 0.89975572 0.9109813\n",
            " 0.92234814 0.93375969 0.94516021 0.95652133 0.96783209 0.97909117\n",
            " 0.99030161 1.00146794 1.0125947  1.02368474 1.03473985 1.04576051\n",
            " 1.05674541 1.06769252 1.07859874 1.08945966]\n",
            "\n",
            "23 day output [[1.1002709]]\n",
            "\n",
            "24 day input \t[0.62229573 0.62357833 0.60580678 0.63456686 0.62729048 0.65881312\n",
            " 0.6566549  0.67446343 0.6889175  0.6819741  0.68034616 0.65718518\n",
            " 0.61737493 0.64969919 0.65719755 0.65529829 0.64936621 0.6633516\n",
            " 0.66306791 0.67268752 0.6500815  0.65687688 0.67134327 0.67961856\n",
            " 0.67656    0.68011187 0.72063746 0.74931122 0.73950661 0.76028738\n",
            " 0.75047046 0.74916319 0.74696794 0.74817658 0.72434961 0.70593673\n",
            " 0.7160003  0.7211061  0.75656287 0.73539978 0.71670328 0.71327476\n",
            " 0.70540645 0.70787297 0.72548424 0.71905881 0.71162215 0.7043705\n",
            " 0.72193237 0.70609706 0.70881029 0.74626501 0.75841279 0.78612461\n",
            " 0.78621093 0.78766617 0.79224168 0.77308885 0.7911687  0.78651923\n",
            " 0.78384303 0.80163925 0.7953742  0.75714249 0.73190962 0.76062035\n",
            " 0.74147988 0.74985381 0.78196844 0.78466931 0.7880115  0.77562938\n",
            " 0.78889949 0.81231948 0.81825155 0.8162413  0.85319352 0.86025953\n",
            " 0.86876714 0.87839836 0.88882244 0.89975572 0.9109813  0.92234814\n",
            " 0.93375969 0.94516021 0.95652133 0.96783209 0.97909117 0.99030161\n",
            " 1.00146794 1.0125947  1.02368474 1.03473985 1.04576051 1.05674541\n",
            " 1.06769252 1.07859874 1.08945966 1.10027087]\n",
            "\n",
            "24 day output [[1.1110269]]\n",
            "\n",
            "25 day input \t[0.62357833 0.60580678 0.63456686 0.62729048 0.65881312 0.6566549\n",
            " 0.67446343 0.6889175  0.6819741  0.68034616 0.65718518 0.61737493\n",
            " 0.64969919 0.65719755 0.65529829 0.64936621 0.6633516  0.66306791\n",
            " 0.67268752 0.6500815  0.65687688 0.67134327 0.67961856 0.67656\n",
            " 0.68011187 0.72063746 0.74931122 0.73950661 0.76028738 0.75047046\n",
            " 0.74916319 0.74696794 0.74817658 0.72434961 0.70593673 0.7160003\n",
            " 0.7211061  0.75656287 0.73539978 0.71670328 0.71327476 0.70540645\n",
            " 0.70787297 0.72548424 0.71905881 0.71162215 0.7043705  0.72193237\n",
            " 0.70609706 0.70881029 0.74626501 0.75841279 0.78612461 0.78621093\n",
            " 0.78766617 0.79224168 0.77308885 0.7911687  0.78651923 0.78384303\n",
            " 0.80163925 0.7953742  0.75714249 0.73190962 0.76062035 0.74147988\n",
            " 0.74985381 0.78196844 0.78466931 0.7880115  0.77562938 0.78889949\n",
            " 0.81231948 0.81825155 0.8162413  0.85319352 0.86025953 0.86876714\n",
            " 0.87839836 0.88882244 0.89975572 0.9109813  0.92234814 0.93375969\n",
            " 0.94516021 0.95652133 0.96783209 0.97909117 0.99030161 1.00146794\n",
            " 1.0125947  1.02368474 1.03473985 1.04576051 1.05674541 1.06769252\n",
            " 1.07859874 1.08945966 1.10027087 1.11102688]\n",
            "\n",
            "25 day output [[1.121722]]\n",
            "\n",
            "26 day input \t[0.60580678 0.63456686 0.62729048 0.65881312 0.6566549  0.67446343\n",
            " 0.6889175  0.6819741  0.68034616 0.65718518 0.61737493 0.64969919\n",
            " 0.65719755 0.65529829 0.64936621 0.6633516  0.66306791 0.67268752\n",
            " 0.6500815  0.65687688 0.67134327 0.67961856 0.67656    0.68011187\n",
            " 0.72063746 0.74931122 0.73950661 0.76028738 0.75047046 0.74916319\n",
            " 0.74696794 0.74817658 0.72434961 0.70593673 0.7160003  0.7211061\n",
            " 0.75656287 0.73539978 0.71670328 0.71327476 0.70540645 0.70787297\n",
            " 0.72548424 0.71905881 0.71162215 0.7043705  0.72193237 0.70609706\n",
            " 0.70881029 0.74626501 0.75841279 0.78612461 0.78621093 0.78766617\n",
            " 0.79224168 0.77308885 0.7911687  0.78651923 0.78384303 0.80163925\n",
            " 0.7953742  0.75714249 0.73190962 0.76062035 0.74147988 0.74985381\n",
            " 0.78196844 0.78466931 0.7880115  0.77562938 0.78889949 0.81231948\n",
            " 0.81825155 0.8162413  0.85319352 0.86025953 0.86876714 0.87839836\n",
            " 0.88882244 0.89975572 0.9109813  0.92234814 0.93375969 0.94516021\n",
            " 0.95652133 0.96783209 0.97909117 0.99030161 1.00146794 1.0125947\n",
            " 1.02368474 1.03473985 1.04576051 1.05674541 1.06769252 1.07859874\n",
            " 1.08945966 1.10027087 1.11102688 1.12172198]\n",
            "\n",
            "26 day output [[1.13235]]\n",
            "\n",
            "27 day input \t[0.63456686 0.62729048 0.65881312 0.6566549  0.67446343 0.6889175\n",
            " 0.6819741  0.68034616 0.65718518 0.61737493 0.64969919 0.65719755\n",
            " 0.65529829 0.64936621 0.6633516  0.66306791 0.67268752 0.6500815\n",
            " 0.65687688 0.67134327 0.67961856 0.67656    0.68011187 0.72063746\n",
            " 0.74931122 0.73950661 0.76028738 0.75047046 0.74916319 0.74696794\n",
            " 0.74817658 0.72434961 0.70593673 0.7160003  0.7211061  0.75656287\n",
            " 0.73539978 0.71670328 0.71327476 0.70540645 0.70787297 0.72548424\n",
            " 0.71905881 0.71162215 0.7043705  0.72193237 0.70609706 0.70881029\n",
            " 0.74626501 0.75841279 0.78612461 0.78621093 0.78766617 0.79224168\n",
            " 0.77308885 0.7911687  0.78651923 0.78384303 0.80163925 0.7953742\n",
            " 0.75714249 0.73190962 0.76062035 0.74147988 0.74985381 0.78196844\n",
            " 0.78466931 0.7880115  0.77562938 0.78889949 0.81231948 0.81825155\n",
            " 0.8162413  0.85319352 0.86025953 0.86876714 0.87839836 0.88882244\n",
            " 0.89975572 0.9109813  0.92234814 0.93375969 0.94516021 0.95652133\n",
            " 0.96783209 0.97909117 0.99030161 1.00146794 1.0125947  1.02368474\n",
            " 1.03473985 1.04576051 1.05674541 1.06769252 1.07859874 1.08945966\n",
            " 1.10027087 1.11102688 1.12172198 1.13234997]\n",
            "\n",
            "27 day output [[1.1429043]]\n",
            "\n",
            "28 day input \t[0.62729048 0.65881312 0.6566549  0.67446343 0.6889175  0.6819741\n",
            " 0.68034616 0.65718518 0.61737493 0.64969919 0.65719755 0.65529829\n",
            " 0.64936621 0.6633516  0.66306791 0.67268752 0.6500815  0.65687688\n",
            " 0.67134327 0.67961856 0.67656    0.68011187 0.72063746 0.74931122\n",
            " 0.73950661 0.76028738 0.75047046 0.74916319 0.74696794 0.74817658\n",
            " 0.72434961 0.70593673 0.7160003  0.7211061  0.75656287 0.73539978\n",
            " 0.71670328 0.71327476 0.70540645 0.70787297 0.72548424 0.71905881\n",
            " 0.71162215 0.7043705  0.72193237 0.70609706 0.70881029 0.74626501\n",
            " 0.75841279 0.78612461 0.78621093 0.78766617 0.79224168 0.77308885\n",
            " 0.7911687  0.78651923 0.78384303 0.80163925 0.7953742  0.75714249\n",
            " 0.73190962 0.76062035 0.74147988 0.74985381 0.78196844 0.78466931\n",
            " 0.7880115  0.77562938 0.78889949 0.81231948 0.81825155 0.8162413\n",
            " 0.85319352 0.86025953 0.86876714 0.87839836 0.88882244 0.89975572\n",
            " 0.9109813  0.92234814 0.93375969 0.94516021 0.95652133 0.96783209\n",
            " 0.97909117 0.99030161 1.00146794 1.0125947  1.02368474 1.03473985\n",
            " 1.04576051 1.05674541 1.06769252 1.07859874 1.08945966 1.10027087\n",
            " 1.11102688 1.12172198 1.13234997 1.14290428]\n",
            "\n",
            "28 day output [[1.1533785]]\n",
            "\n",
            "29 day input \t[0.65881312 0.6566549  0.67446343 0.6889175  0.6819741  0.68034616\n",
            " 0.65718518 0.61737493 0.64969919 0.65719755 0.65529829 0.64936621\n",
            " 0.6633516  0.66306791 0.67268752 0.6500815  0.65687688 0.67134327\n",
            " 0.67961856 0.67656    0.68011187 0.72063746 0.74931122 0.73950661\n",
            " 0.76028738 0.75047046 0.74916319 0.74696794 0.74817658 0.72434961\n",
            " 0.70593673 0.7160003  0.7211061  0.75656287 0.73539978 0.71670328\n",
            " 0.71327476 0.70540645 0.70787297 0.72548424 0.71905881 0.71162215\n",
            " 0.7043705  0.72193237 0.70609706 0.70881029 0.74626501 0.75841279\n",
            " 0.78612461 0.78621093 0.78766617 0.79224168 0.77308885 0.7911687\n",
            " 0.78651923 0.78384303 0.80163925 0.7953742  0.75714249 0.73190962\n",
            " 0.76062035 0.74147988 0.74985381 0.78196844 0.78466931 0.7880115\n",
            " 0.77562938 0.78889949 0.81231948 0.81825155 0.8162413  0.85319352\n",
            " 0.86025953 0.86876714 0.87839836 0.88882244 0.89975572 0.9109813\n",
            " 0.92234814 0.93375969 0.94516021 0.95652133 0.96783209 0.97909117\n",
            " 0.99030161 1.00146794 1.0125947  1.02368474 1.03473985 1.04576051\n",
            " 1.05674541 1.06769252 1.07859874 1.08945966 1.10027087 1.11102688\n",
            " 1.12172198 1.13234997 1.14290428 1.15337849]\n",
            "\n",
            "29 day output [[1.1637658]]\n",
            "[[0.8531935214996338], [0.8602595329284668], [0.8687671422958374], [0.8783983588218689], [0.8888224363327026], [0.8997557163238525], [0.910981297492981], [0.922348141670227], [0.9337596893310547], [0.9451602101325989], [0.9565213322639465], [0.967832088470459], [0.9790911674499512], [0.9903016090393066], [1.0014679431915283], [1.0125946998596191], [1.0236847400665283], [1.0347398519515991], [1.0457605123519897], [1.0567454099655151], [1.067692518234253], [1.0785987377166748], [1.0894596576690674], [1.1002708673477173], [1.1110268831253052], [1.1217219829559326], [1.132349967956543], [1.142904281616211], [1.1533784866333008], [1.163765788078308]]\n"
          ]
        }
      ]
    },
    {
      "cell_type": "code",
      "source": [
        "day_new=np.arange(1,101)\n",
        "day_pred=np.arange(101,131)\n",
        "import matplotlib.pyplot as plt"
      ],
      "metadata": {
        "id": "Zpz1_9ZVrNb6"
      },
      "execution_count": null,
      "outputs": []
    },
    {
      "cell_type": "code",
      "source": [
        "len(share_close)"
      ],
      "metadata": {
        "colab": {
          "base_uri": "https://localhost:8080/"
        },
        "id": "8GEHvxoKthUH",
        "outputId": "c8173afb-ff5d-4f8f-c243-1591bfc4f734"
      },
      "execution_count": null,
      "outputs": [
        {
          "output_type": "execute_result",
          "data": {
            "text/plain": [
              "421"
            ]
          },
          "metadata": {},
          "execution_count": 41
        }
      ]
    },
    {
      "cell_type": "code",
      "source": [
        "plt.title(\"Graph of 100 days price data(blue line) and prediction of next 30 days(orange line)\")\n",
        "plt.plot(day_new,scaler.inverse_transform(share_close[321:]))\n",
        "plt.plot(day_pred,scaler.inverse_transform(lst_output))\n"
      ],
      "metadata": {
        "colab": {
          "base_uri": "https://localhost:8080/",
          "height": 469
        },
        "id": "zimg9duEtqgM",
        "outputId": "75bc3182-f8c7-4031-e1bd-a09bd4d4c083"
      },
      "execution_count": null,
      "outputs": [
        {
          "output_type": "execute_result",
          "data": {
            "text/plain": [
              "[<matplotlib.lines.Line2D at 0x79b908c62b90>]"
            ]
          },
          "metadata": {},
          "execution_count": 42
        },
        {
          "output_type": "display_data",
          "data": {
            "text/plain": [
              "<Figure size 640x480 with 1 Axes>"
            ],
            "image/png": "[encoded data removed]"
          },
          "metadata": {}
        }
      ]
    },
    {
      "cell_type": "code",
      "source": [
        "df3=share_close.tolist()\n",
        "df3.extend(lst_output)\n",
        "plt.plot(df3[363:])"
      ],
      "metadata": {
        "colab": {
          "base_uri": "https://localhost:8080/",
          "height": 447
        },
        "id": "s-eyKB27t2-w",
        "outputId": "f70721d0-e97f-4929-fad6-8abf04ef1d67"
      },
      "execution_count": null,
      "outputs": [
        {
          "output_type": "execute_result",
          "data": {
            "text/plain": [
              "[<matplotlib.lines.Line2D at 0x79b908c2d930>]"
            ]
          },
          "metadata": {},
          "execution_count": 43
        },
        {
          "output_type": "display_data",
          "data": {
            "text/plain": [
              "<Figure size 640x480 with 1 Axes>"
            ],
            "image/png": "[encoded data removed]"
          },
          "metadata": {}
        }
      ]
    },
    {
      "cell_type": "code",
      "source": [
        "\n",
        "df3=scaler.inverse_transform(df3).tolist()\n",
        "plt.title(\"Graph shown after appending next 30days predicted price in o/p list\")\n",
        "plt.plot(df3)"
      ],
      "metadata": {
        "colab": {
          "base_uri": "https://localhost:8080/",
          "height": 469
        },
        "id": "dM2uxZUyud3-",
        "outputId": "a3016dc1-2c40-42e3-a1fa-88b5527a55d7"
      },
      "execution_count": null,
      "outputs": [
        {
          "output_type": "execute_result",
          "data": {
            "text/plain": [
              "[<matplotlib.lines.Line2D at 0x79b908b4df90>]"
            ]
          },
          "metadata": {},
          "execution_count": 44
        },
        {
          "output_type": "display_data",
          "data": {
            "text/plain": [
              "<Figure size 640x480 with 1 Axes>"
            ],
            "image/png": "[encoded data removed]"
          },
          "metadata": {}
        }
      ]
    },
    {
      "cell_type": "code",
      "source": [
        "print(\"Average of next 30 days predicted close price : \",np.mean(scaler.inverse_transform(lst_output)))"
      ],
      "metadata": {
        "id": "UvMny7Iuu8oB",
        "colab": {
          "base_uri": "https://localhost:8080/"
        },
        "outputId": "0f9d6b0d-3ddc-4ec2-840e-61106f571b1b"
      },
      "execution_count": null,
      "outputs": [
        {
          "output_type": "stream",
          "name": "stdout",
          "text": [
            "Average of next 30 days predicted close price :  296.0873322312993\n"
          ]
        }
      ]
    },
    {
      "cell_type": "code",
      "source": [],
      "metadata": {
        "id": "SzEPfa49n0-3"
      },
      "execution_count": null,
      "outputs": []
    }
  ]
}